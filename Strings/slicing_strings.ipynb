{
 "cells": [
  {
   "cell_type": "markdown",
   "id": "06fd8972",
   "metadata": {},
   "source": [
    "Slicing (segmentacion)"
   ]
  },
  {
   "cell_type": "code",
   "execution_count": null,
   "id": "ea663c38",
   "metadata": {},
   "outputs": [
    {
     "name": "stdout",
     "output_type": "stream",
     "text": [
      "Mi nombre es Daniel y estoy aprendiendo Phyton\n",
      "Mi nombre es Daniel\n",
      "Phyton\n",
      "M obee ailyetyarninoPyo\n"
     ]
    }
   ],
   "source": [
    "#Accediendo a un sub-str\n",
    "frase = \"Mi nombre es Daniel y estoy aprendiendo Phyton\"\n",
    "\n",
    "#texto[inicio:fin:paso]\n",
    "#texto[start:stop:step]\n",
    "print(frase)\n",
    "\n",
    "#Accediendo a un sub-str\n",
    "print(frase[0:19])\n",
    "print(frase[-6:])\n",
    "\n",
    "#Accediendo a un sub-str con paso\n",
    "print(frase[0::2])#va como de 2 en 2\n"
   ]
  },
  {
   "cell_type": "markdown",
   "id": "6c0b312f",
   "metadata": {},
   "source": [
    "Invirtiendo un str"
   ]
  },
  {
   "cell_type": "code",
   "execution_count": 9,
   "id": "daf88b5e",
   "metadata": {},
   "outputs": [
    {
     "name": "stdout",
     "output_type": "stream",
     "text": [
      "anit al aval atina\n"
     ]
    }
   ],
   "source": [
    "frase2 = \"anita lava la tina\"\n",
    "print(frase2[::-1])#invirtiendo el str"
   ]
  }
 ],
 "metadata": {
  "kernelspec": {
   "display_name": "Python 3",
   "language": "python",
   "name": "python3"
  },
  "language_info": {
   "codemirror_mode": {
    "name": "ipython",
    "version": 3
   },
   "file_extension": ".py",
   "mimetype": "text/x-python",
   "name": "python",
   "nbconvert_exporter": "python",
   "pygments_lexer": "ipython3",
   "version": "3.13.5"
  }
 },
 "nbformat": 4,
 "nbformat_minor": 5
}
