{
 "cells": [
  {
   "cell_type": "markdown",
   "id": "1b63b33f",
   "metadata": {},
   "source": [
    "# Metodos para Strings"
   ]
  },
  {
   "cell_type": "markdown",
   "id": "69311afa",
   "metadata": {},
   "source": [
    "Metodo Split()"
   ]
  },
  {
   "cell_type": "code",
   "execution_count": null,
   "id": "28b79dbc",
   "metadata": {},
   "outputs": [
    {
     "name": "stdout",
     "output_type": "stream",
     "text": [
      "['Max', 'Verstappen']\n",
      "['Mercedes', ' RedBull', ' Ferrari', ' Mclaren']\n",
      "<class 'list'>\n"
     ]
    }
   ],
   "source": [
    "piloto = \"Max Verstappen\"\n",
    "#El metodo split hace que separe el texto en una lista\n",
    "print(piloto.split())\n",
    "\n",
    "equipos = \"Mercedes, RedBull, Ferrari, Mclaren\"\n",
    "#Con el parametro sep se define el separador\n",
    "print(equipos.split(sep = \",\"))\n",
    "\n",
    "#Con el type indica que tipo de dato es\n",
    "print(type(equipos.split(sep = \",\")))"
   ]
  },
  {
   "cell_type": "markdown",
   "id": "a25e7524",
   "metadata": {},
   "source": [
    "Metodo Strip()"
   ]
  },
  {
   "cell_type": "code",
   "execution_count": 10,
   "id": "f0ce123c",
   "metadata": {},
   "outputs": [
    {
     "name": "stdout",
     "output_type": "stream",
     "text": [
      "Hola Mundo\n"
     ]
    }
   ],
   "source": [
    "texto = \"     Hola Mundo    \"\n",
    "#El metodo strip elimina los espacios al inicio y al final del texto\n",
    "print(texto.strip())"
   ]
  },
  {
   "cell_type": "code",
   "execution_count": null,
   "id": "2fcbecff",
   "metadata": {},
   "outputs": [
    {
     "name": "stdout",
     "output_type": "stream",
     "text": [
      "Bienvenidos al curso\n"
     ]
    }
   ],
   "source": [
    "texto1 = \"///////Bienvenidos al curso/////////\"\n",
    "#Dentro del strip() puedo poner lo que quiero eliminar\n",
    "print(texto1.strip(\"/\"))"
   ]
  },
  {
   "cell_type": "code",
   "execution_count": 13,
   "id": "ad52228e",
   "metadata": {},
   "outputs": [
    {
     "name": "stdout",
     "output_type": "stream",
     "text": [
      "Bienvenidos al curso/////////\n",
      "///////Bienvenidos al curso\n"
     ]
    }
   ],
   "source": [
    "texto2 = \"///////Bienvenidos al curso/////////\"\n",
    "#Con lstrip() elimino solo lo de la izquierda\n",
    "print(texto1.lstrip(\"/\"))\n",
    "\n",
    "#Con rstrip() elimino solo lo de la derecha\n",
    "print(texto1.rstrip(\"/\"))"
   ]
  },
  {
   "cell_type": "markdown",
   "id": "840be1af",
   "metadata": {},
   "source": [
    "Metodo Capitalize()"
   ]
  },
  {
   "cell_type": "code",
   "execution_count": null,
   "id": "096ffc0b",
   "metadata": {},
   "outputs": [
    {
     "name": "stdout",
     "output_type": "stream",
     "text": [
      "Lewis\n"
     ]
    }
   ],
   "source": [
    "ferrari = \"lewis\"\n",
    "#Con el metodo capitalize() pongo la primera letra en mayuscula\n",
    "print(ferrari.capitalize())"
   ]
  },
  {
   "cell_type": "markdown",
   "id": "5065f7bd",
   "metadata": {},
   "source": [
    "Metodo upper()"
   ]
  },
  {
   "cell_type": "code",
   "execution_count": null,
   "id": "394e0e72",
   "metadata": {},
   "outputs": [
    {
     "name": "stdout",
     "output_type": "stream",
     "text": [
      "EL MEJOR PILOTO ES LEWIS HAMILTON\n"
     ]
    }
   ],
   "source": [
    "texto3 = \"El mejor piloto es Lewis Hamilton\"\n",
    "\n",
    "#Pone todo el texto en mayusculas\n",
    "print(texto3.upper())"
   ]
  },
  {
   "cell_type": "markdown",
   "id": "8be059c1",
   "metadata": {},
   "source": [
    "Metodo title()"
   ]
  },
  {
   "cell_type": "code",
   "execution_count": 17,
   "id": "75c05337",
   "metadata": {},
   "outputs": [
    {
     "name": "stdout",
     "output_type": "stream",
     "text": [
      "Oscar Piastri\n"
     ]
    }
   ],
   "source": [
    "mclaren = \"oscar piastri\"\n",
    "\n",
    "#Pone la primera letra de cada palabra en mayuscula\n",
    "print(mclaren.title())"
   ]
  },
  {
   "cell_type": "markdown",
   "id": "98a9a4c1",
   "metadata": {},
   "source": [
    "Metodo replace()"
   ]
  },
  {
   "cell_type": "code",
   "execution_count": 19,
   "id": "27e53f5d",
   "metadata": {},
   "outputs": [
    {
     "name": "stdout",
     "output_type": "stream",
     "text": [
      "Hola Phyton\n"
     ]
    }
   ],
   "source": [
    "texto5 = \"Hola mundo\"\n",
    "#El metodo replace() reemplaza una palabra por otra\n",
    "#Se pone primero la plaabra a reemplazar y luego la nueva palabra\n",
    "print(texto5.replace(\"mundo\", \"Phyton\"))"
   ]
  }
 ],
 "metadata": {
  "kernelspec": {
   "display_name": "Python 3",
   "language": "python",
   "name": "python3"
  },
  "language_info": {
   "codemirror_mode": {
    "name": "ipython",
    "version": 3
   },
   "file_extension": ".py",
   "mimetype": "text/x-python",
   "name": "python",
   "nbconvert_exporter": "python",
   "pygments_lexer": "ipython3",
   "version": "3.13.5"
  }
 },
 "nbformat": 4,
 "nbformat_minor": 5
}
