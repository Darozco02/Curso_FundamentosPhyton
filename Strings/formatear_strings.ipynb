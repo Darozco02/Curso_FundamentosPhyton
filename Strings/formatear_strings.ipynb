{
 "cells": [
  {
   "cell_type": "markdown",
   "id": "31596ca8",
   "metadata": {},
   "source": [
    "Formatear Strings (f-strings)"
   ]
  },
  {
   "cell_type": "code",
   "execution_count": null,
   "id": "aabb4b86",
   "metadata": {},
   "outputs": [
    {
     "name": "stdout",
     "output_type": "stream",
     "text": [
      "Hola, mi nombre es Valeria y tengo 22 años\n"
     ]
    }
   ],
   "source": [
    "nombre = \"Valeria\"\n",
    "edad = 22\n",
    "\n",
    "#Es una manera para no tener que concatenar\n",
    "print(f\"Hola, mi nombre es {nombre} y tengo {edad} años\")#f-string\n",
    "\n",
    "num1 = int(input(\"Ingrese el primer numero: \"))\n",
    "num2 = int(input(\"Ingrese el segundo numero: \"))\n",
    "\n",
    "print(f\"La suma de los numeros {num1} y {num2} es: {num1 + num2}\")\n"
   ]
  },
  {
   "cell_type": "markdown",
   "id": "80128fc8",
   "metadata": {},
   "source": [
    "Metodo format"
   ]
  },
  {
   "cell_type": "code",
   "execution_count": null,
   "id": "38d241a0",
   "metadata": {},
   "outputs": [
    {
     "name": "stdout",
     "output_type": "stream",
     "text": [
      "Hola, soy Daniel y tengo 23 años\n"
     ]
    }
   ],
   "source": [
    "#Metodo format\n",
    "nombre2 = \"Daniel\"\n",
    "edad2 = 23\n",
    "\n",
    "print(\"Hola, soy {} y tengo {} años\".format(nombre2, edad2))"
   ]
  },
  {
   "cell_type": "markdown",
   "id": "d8254f68",
   "metadata": {},
   "source": [
    "Metodo %"
   ]
  },
  {
   "cell_type": "code",
   "execution_count": null,
   "id": "ebb7c009",
   "metadata": {},
   "outputs": [
    {
     "name": "stdout",
     "output_type": "stream",
     "text": [
      "Hola, mi nombre es Daniel y tengo 23 años\n"
     ]
    }
   ],
   "source": [
    "#Metodo %\n",
    "#La s es porque es un string y la d por que es un numero entero\n",
    "print(\"Hola, mi nombre es %s y tengo %d años\" % (nombre2, edad2))"
   ]
  }
 ],
 "metadata": {
  "kernelspec": {
   "display_name": "Python 3",
   "language": "python",
   "name": "python3"
  },
  "language_info": {
   "codemirror_mode": {
    "name": "ipython",
    "version": 3
   },
   "file_extension": ".py",
   "mimetype": "text/x-python",
   "name": "python",
   "nbconvert_exporter": "python",
   "pygments_lexer": "ipython3",
   "version": "3.13.5"
  }
 },
 "nbformat": 4,
 "nbformat_minor": 5
}
