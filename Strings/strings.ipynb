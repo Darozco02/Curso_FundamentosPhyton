{
 "cells": [
  {
   "cell_type": "code",
   "execution_count": null,
   "id": "2a2b7c06",
   "metadata": {},
   "outputs": [
    {
     "name": "stdout",
     "output_type": "stream",
     "text": [
      "Daniel Orozco\n",
      "DanielOrozco\n",
      "Daniel Orozco\n"
     ]
    }
   ],
   "source": [
    "nombre = \"Daniel\"\n",
    "apellido = \"Orozco\"\n",
    "\n",
    "print(nombre, apellido)\n",
    "\n",
    "#Con el + no hay espacio entre los textos habria que agregarlo manual\n",
    "print(nombre + apellido)\n",
    "\n",
    "#Agregando el espacio manual\n",
    "print(nombre + \" \" + apellido)"
   ]
  },
  {
   "cell_type": "code",
   "execution_count": null,
   "id": "6fbd15eb",
   "metadata": {},
   "outputs": [
    {
     "name": "stdout",
     "output_type": "stream",
     "text": [
      "e\n",
      "V\n",
      "e\n",
      "r\n",
      "s\n",
      "t\n",
      "a\n",
      "p\n",
      "p\n",
      "e\n",
      "n\n"
     ]
    }
   ],
   "source": [
    "#Con el numero entre los [] se accede a un caracter en especifico\n",
    "print(nombre[4])\n",
    "\n",
    "texto = \"Hola mi nombre es Daniel y mi piloto favorito es Max Verstappen\"\n",
    "#Esto se usa en una cadena de texto muy larga para obtener los ultimos caracteres\n",
    "print(texto[-10])\n",
    "print(texto[-9])\n",
    "print(texto[-8])\n",
    "print(texto[-7])\n",
    "print(texto[-6])\n",
    "print(texto[-5])\n",
    "print(texto[-4])\n",
    "print(texto[-3])\n",
    "print(texto[-2])\n",
    "print(texto[-1])\n"
   ]
  }
 ],
 "metadata": {
  "kernelspec": {
   "display_name": "Python 3",
   "language": "python",
   "name": "python3"
  },
  "language_info": {
   "codemirror_mode": {
    "name": "ipython",
    "version": 3
   },
   "file_extension": ".py",
   "mimetype": "text/x-python",
   "name": "python",
   "nbconvert_exporter": "python",
   "pygments_lexer": "ipython3",
   "version": "3.13.5"
  }
 },
 "nbformat": 4,
 "nbformat_minor": 5
}
