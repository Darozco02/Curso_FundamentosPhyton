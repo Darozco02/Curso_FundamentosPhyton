{
 "cells": [
  {
   "cell_type": "markdown",
   "id": "52342030",
   "metadata": {},
   "source": [
    "# Cuaderno de pruebas"
   ]
  },
  {
   "cell_type": "markdown",
   "id": "a7312066",
   "metadata": {},
   "source": [
    "### Control de Inventario 📦"
   ]
  },
  {
   "cell_type": "code",
   "execution_count": 8,
   "id": "a4156e1f",
   "metadata": {},
   "outputs": [
    {
     "name": "stdout",
     "output_type": "stream",
     "text": [
      "Bienvenido al Sistema de control de inventario!\n",
      "--------------------------------------------------\n",
      "Gracias por usar el sistema de control de inventario, hasta pronto!\n"
     ]
    }
   ],
   "source": [
    "print(\"Bienvenido al Sistema de control de inventario!\")\n",
    "print(\"-\" * 50)\n",
    "\n",
    "#Menu \n",
    "opc = int(input(\"Por favor ingrese la opcion deseada: \\n1. Ingresar nuevo producto \\n2. Ver inventario \\n3. Eliminar producto \\n 4. Salir \\n\"))\n",
    "\n",
    "#Creacion de listas\n",
    "lista_productos = []\n",
    "\n",
    "#Opciones del menu\n",
    "while opc != 5:\n",
    "    if opc == 1:\n",
    "        #Solicitar los datos del producto\n",
    "        nombre_producto = input(\"Por favor ingrese el nombre del producto: \").title().strip()\n",
    "        cantidad = int(input(\"Por favor ingrese la cantidad de productos: \"))\n",
    "        precio_unitario = float(input(\"Por favor ingrese el precio del producto: \"))\n",
    "        lista_productos.append((nombre_producto, cantidad, precio_unitario))\n",
    "        print(\"Producto ingresado con exito!\")\n",
    "\n",
    "    elif opc == 2:\n",
    "        for indice, producto in enumerate(lista_productos, 1):\n",
    "            print(f\"Producto {indice}: Nombre: {producto[0]}, Cantidad: {producto[1]}, Precio Unitario: ${producto[2]}\")\n",
    "            if not lista_productos:\n",
    "                print(\"El inventario esta vacio.\")\n",
    "\n",
    "    elif opc == 3:\n",
    "        #Eliminar un producto\n",
    "        producto_eliminado = input(\"Por favor ingrese el nombre del producto a eliminar: \").title().strip()\n",
    "        for producto in lista_productos:\n",
    "            if producto_eliminado == producto[0]:\n",
    "                lista_productos.remove(producto)\n",
    "                print(f\"El producto {producto_eliminado} ha sido eliminado con exito!\")\n",
    "                break\n",
    "\n",
    "    elif opc == 4:\n",
    "        print(\"Gracias por usar el sistema de control de inventario, hasta pronto!\")\n",
    "        break\n",
    "\n",
    "    else:\n",
    "        print(\"Opcion no valida, por favor intente de nuevo.\")\n",
    "        break\n",
    "    "
   ]
  }
 ],
 "metadata": {
  "kernelspec": {
   "display_name": "Python 3",
   "language": "python",
   "name": "python3"
  },
  "language_info": {
   "codemirror_mode": {
    "name": "ipython",
    "version": 3
   },
   "file_extension": ".py",
   "mimetype": "text/x-python",
   "name": "python",
   "nbconvert_exporter": "python",
   "pygments_lexer": "ipython3",
   "version": "3.13.5"
  }
 },
 "nbformat": 4,
 "nbformat_minor": 5
}
