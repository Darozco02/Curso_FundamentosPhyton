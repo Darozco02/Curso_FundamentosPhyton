{
 "cells": [
  {
   "cell_type": "markdown",
   "id": "758fadf9",
   "metadata": {},
   "source": [
    "# Acciones para las tuplas"
   ]
  },
  {
   "cell_type": "markdown",
   "id": "2ec5868c",
   "metadata": {},
   "source": [
    "### Desempaquetado Basico"
   ]
  },
  {
   "cell_type": "code",
   "execution_count": 1,
   "id": "e33d9ad1",
   "metadata": {},
   "outputs": [
    {
     "name": "stdout",
     "output_type": "stream",
     "text": [
      "Homero\n",
      "Marge\n",
      "Bart\n",
      "Lisa\n",
      "Maggie\n"
     ]
    }
   ],
   "source": [
    "#Extraer elementos de una tupla y asignarlos a variables individuales\n",
    "simpsons = (\"Homero\", \"Marge\", \"Bart\", \"Lisa\", \"Maggie\")\n",
    "\n",
    "#Poner los nombres de las variables en el mismo orden de los elementos\n",
    "padre, madre, hijo, hija, bebe = simpsons\n",
    "\n",
    "print(padre)  # Homero\n",
    "print(madre)  # Marge  \n",
    "print(hijo)   # Bart\n",
    "print(hija)  # Lisa\n",
    "print(bebe)   # Maggie"
   ]
  },
  {
   "cell_type": "markdown",
   "id": "42b193c7",
   "metadata": {},
   "source": [
    "### Desempaquetado con longitud variable"
   ]
  },
  {
   "cell_type": "code",
   "execution_count": null,
   "id": "eb3debf7",
   "metadata": {},
   "outputs": [
    {
     "name": "stdout",
     "output_type": "stream",
     "text": [
      "Homero\n",
      "['Marge', 'Bart', 'Lisa', 'Maggie']\n"
     ]
    }
   ],
   "source": [
    "#Desempaquetado con longitud variable\n",
    "#Si no se sabe la cantidad de elementos, se puede usar un asterisco para capturar el resto\n",
    "padre, *resto_familia = simpsons\n",
    "print(padre)  # Homero\n",
    "print(resto_familia)  # ['Marge', 'Bart', 'Lisa', 'Maggie']\n"
   ]
  },
  {
   "cell_type": "markdown",
   "id": "cf9f20de",
   "metadata": {},
   "source": [
    "### Desempaquetado ignorando elementos"
   ]
  },
  {
   "cell_type": "code",
   "execution_count": 3,
   "id": "dfdaebdb",
   "metadata": {},
   "outputs": [
    {
     "name": "stdout",
     "output_type": "stream",
     "text": [
      "1\n",
      "3\n",
      "----------------------\n",
      "5\n"
     ]
    }
   ],
   "source": [
    "# Desempaquetando ignorando elementos\n",
    "# Se hace con el signo \"_\"\n",
    "\n",
    "tupla = (1, 2, 3, 4, 5)\n",
    "\n",
    "a, _, c, _, _ = tupla\n",
    "print(a)\n",
    "print(c)\n",
    "print(\"----------------------\")\n",
    "print(_)"
   ]
  }
 ],
 "metadata": {
  "kernelspec": {
   "display_name": "Python 3",
   "language": "python",
   "name": "python3"
  },
  "language_info": {
   "codemirror_mode": {
    "name": "ipython",
    "version": 3
   },
   "file_extension": ".py",
   "mimetype": "text/x-python",
   "name": "python",
   "nbconvert_exporter": "python",
   "pygments_lexer": "ipython3",
   "version": "3.13.5"
  }
 },
 "nbformat": 4,
 "nbformat_minor": 5
}
