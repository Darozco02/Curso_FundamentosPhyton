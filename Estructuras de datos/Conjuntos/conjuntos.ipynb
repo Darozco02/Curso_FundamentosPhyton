{
 "cells": [
  {
   "cell_type": "markdown",
   "id": "6858fbda",
   "metadata": {},
   "source": [
    "# Conjuntos - set()"
   ]
  },
  {
   "cell_type": "markdown",
   "id": "ca785e8f",
   "metadata": {},
   "source": [
    "Almacenan elementos unicos sin orden en especificos. se hacen con llaves o con la funcion set()\n",
    "No permiten elementos duplicados"
   ]
  },
  {
   "cell_type": "markdown",
   "id": "170751c2",
   "metadata": {},
   "source": [
    "### Creacion de set()"
   ]
  },
  {
   "cell_type": "code",
   "execution_count": 1,
   "id": "ccf3ce7f",
   "metadata": {},
   "outputs": [
    {
     "name": "stdout",
     "output_type": "stream",
     "text": [
      "{1, 2, 3, 4, 5}\n",
      "<class 'set'>\n"
     ]
    }
   ],
   "source": [
    "conjunto = {1,2,3,4,5}\n",
    "print(conjunto)\n",
    "print(type(conjunto))"
   ]
  },
  {
   "cell_type": "code",
   "execution_count": 2,
   "id": "4f2618b2",
   "metadata": {},
   "outputs": [
    {
     "name": "stdout",
     "output_type": "stream",
     "text": [
      "{1, 2, 3, 4, 5}\n"
     ]
    }
   ],
   "source": [
    "conjunto_repetidos = {1,2,2,3,4,5}\n",
    "\n",
    "print(conjunto_repetidos)  # {1, 2, 3, 4, 5} - los duplicados son ignorados"
   ]
  },
  {
   "cell_type": "markdown",
   "id": "4b9f7fda",
   "metadata": {},
   "source": [
    "### Transformacion de sets() a list"
   ]
  },
  {
   "cell_type": "code",
   "execution_count": 3,
   "id": "7035ff25",
   "metadata": {},
   "outputs": [
    {
     "name": "stdout",
     "output_type": "stream",
     "text": [
      "{1, 2, 3, 4, 5}\n",
      "<class 'set'>\n"
     ]
    }
   ],
   "source": [
    "conjunto_prueba = {1,2,3,4,5}\n",
    "print(conjunto_prueba)\n",
    "print(type(conjunto_prueba))"
   ]
  },
  {
   "cell_type": "code",
   "execution_count": null,
   "id": "edcf0ceb",
   "metadata": {},
   "outputs": [
    {
     "name": "stdout",
     "output_type": "stream",
     "text": [
      "[1, 2, 3, 4, 5]\n",
      "<class 'list'>\n"
     ]
    }
   ],
   "source": [
    "# Transformacion de set a list\n",
    "# Esto es util cuando se necesita realizar operaciones de lista en un conjunto\n",
    "conjunto_a_lista = list(conjunto_prueba)\n",
    "\n",
    "print(conjunto_a_lista)\n",
    "print(type(conjunto_a_lista))"
   ]
  }
 ],
 "metadata": {
  "kernelspec": {
   "display_name": "Python 3",
   "language": "python",
   "name": "python3"
  },
  "language_info": {
   "codemirror_mode": {
    "name": "ipython",
    "version": 3
   },
   "file_extension": ".py",
   "mimetype": "text/x-python",
   "name": "python",
   "nbconvert_exporter": "python",
   "pygments_lexer": "ipython3",
   "version": "3.13.5"
  }
 },
 "nbformat": 4,
 "nbformat_minor": 5
}
