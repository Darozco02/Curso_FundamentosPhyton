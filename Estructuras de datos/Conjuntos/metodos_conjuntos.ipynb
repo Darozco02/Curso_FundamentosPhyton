{
 "cells": [
  {
   "cell_type": "markdown",
   "id": "e3b5023d",
   "metadata": {},
   "source": [
    "### Manipulacion de conjuntos "
   ]
  },
  {
   "cell_type": "markdown",
   "id": "e5c6802c",
   "metadata": {},
   "source": [
    "### Metodo add()"
   ]
  },
  {
   "cell_type": "code",
   "execution_count": null,
   "id": "af18d04a",
   "metadata": {},
   "outputs": [
    {
     "name": "stdout",
     "output_type": "stream",
     "text": [
      "{1, 2, 3, 4, 5, 6, 'Prueba', ('Daniel', 'Orozco')}\n"
     ]
    }
   ],
   "source": [
    "#Agrega elementos al conjunto\n",
    "conjunto = {1,2,3,4,5}\n",
    "\n",
    "conjunto.add(6)\n",
    "conjunto.add(\"Prueba\")\n",
    "conjunto.add((\"Daniel\", \"Orozco\")) # Agrega una tupla como elemento\n",
    "print(conjunto)"
   ]
  },
  {
   "cell_type": "markdown",
   "id": "60f665e3",
   "metadata": {},
   "source": [
    "### Eliminando elementos"
   ]
  },
  {
   "cell_type": "markdown",
   "id": "62b3ffd5",
   "metadata": {},
   "source": [
    "### Metodo remove()"
   ]
  },
  {
   "cell_type": "code",
   "execution_count": null,
   "id": "d2631455",
   "metadata": {},
   "outputs": [
    {
     "name": "stdout",
     "output_type": "stream",
     "text": [
      "{1, 2, 3, 4, 5, 6, 'Prueba'}\n",
      "{1, 2, 3, 4, 5, 6}\n"
     ]
    }
   ],
   "source": [
    "print(conjunto)\n",
    "\n",
    "conjunto.remove(\"Prueba\")\n",
    "print(conjunto)"
   ]
  },
  {
   "cell_type": "markdown",
   "id": "e7a1d4bc",
   "metadata": {},
   "source": [
    "### Metodo pop()"
   ]
  },
  {
   "cell_type": "code",
   "execution_count": 7,
   "id": "26e1bad2",
   "metadata": {},
   "outputs": [
    {
     "name": "stdout",
     "output_type": "stream",
     "text": [
      "{1, 2, 3, 4}\n",
      "1\n",
      "{2, 3, 4}\n"
     ]
    }
   ],
   "source": [
    "mi_conjunto = {1, 2, 3, 4}\n",
    "print(mi_conjunto)\n",
    "\n",
    "elemento = mi_conjunto.pop()\n",
    "print(elemento)\n",
    "\n",
    "print(mi_conjunto)  # El conjunto ahora no contiene el elemento eliminado"
   ]
  },
  {
   "cell_type": "markdown",
   "id": "7511b368",
   "metadata": {},
   "source": [
    "### Metodo clear()"
   ]
  },
  {
   "cell_type": "code",
   "execution_count": 8,
   "id": "f935f740",
   "metadata": {},
   "outputs": [
    {
     "name": "stdout",
     "output_type": "stream",
     "text": [
      "{2, 3, 4}\n",
      "set()\n"
     ]
    }
   ],
   "source": [
    "print(mi_conjunto)\n",
    "\n",
    "mi_conjunto.clear()  # Elimina todos los elementos del conjunto\n",
    "print(mi_conjunto)  # El conjunto ahora está vacío"
   ]
  },
  {
   "cell_type": "markdown",
   "id": "86eccad4",
   "metadata": {},
   "source": [
    "### Metodo discard()"
   ]
  },
  {
   "cell_type": "code",
   "execution_count": 13,
   "id": "060ef610",
   "metadata": {},
   "outputs": [
    {
     "name": "stdout",
     "output_type": "stream",
     "text": [
      "{False, 1, 2, 3, 'Phyton'}\n",
      "{False, 1, 2}\n"
     ]
    }
   ],
   "source": [
    "#Elimina el elemento especificado del conjunto, si no existe no hace nada\n",
    "conjunto = {1, 2, 3, False, \"Phyton\"}\n",
    "print(conjunto)\n",
    "\n",
    "conjunto.discard(3)\n",
    "conjunto.discard(\"Phyton\")\n",
    "print(conjunto)"
   ]
  },
  {
   "cell_type": "markdown",
   "id": "e0a069f4",
   "metadata": {},
   "source": [
    "### Metodo difference()"
   ]
  },
  {
   "cell_type": "code",
   "execution_count": null,
   "id": "fdeb973b",
   "metadata": {},
   "outputs": [
    {
     "name": "stdout",
     "output_type": "stream",
     "text": [
      "{1, 2}\n"
     ]
    }
   ],
   "source": [
    "conjunto1 = {1, 2, 3, 4}\n",
    "conjunto2 = {3, 4, 5, 6}\n",
    "\n",
    "diferencia = conjunto1.difference(conjunto2)\n",
    "# Imprime la diferencia entre conjunto1 y conjunto2 los elementos que están en conjunto1 pero no en conjunto2\n",
    "print(diferencia)"
   ]
  },
  {
   "cell_type": "markdown",
   "id": "38baf306",
   "metadata": {},
   "source": [
    "### Metodo issubset()"
   ]
  },
  {
   "cell_type": "code",
   "execution_count": null,
   "id": "933924f2",
   "metadata": {},
   "outputs": [
    {
     "name": "stdout",
     "output_type": "stream",
     "text": [
      "True\n"
     ]
    }
   ],
   "source": [
    "conjunto1 = {1, 2}\n",
    "conjunto2 = {1, 2, 3, 4}\n",
    "\n",
    "#Verifica si el conjunto2 tiene contenidos del conjunto1\n",
    "print(conjunto1.issubset(conjunto2))  # Verifica si conjunto1 es un subconjunto de conjunto2"
   ]
  },
  {
   "cell_type": "markdown",
   "id": "ef7eda09",
   "metadata": {},
   "source": [
    "### Metodo issuperset()"
   ]
  },
  {
   "cell_type": "code",
   "execution_count": 18,
   "id": "cd094a5d",
   "metadata": {},
   "outputs": [
    {
     "name": "stdout",
     "output_type": "stream",
     "text": [
      "True\n",
      "False\n"
     ]
    }
   ],
   "source": [
    "conjunto1 = {1, 2, 3, 4}\n",
    "conjunto2 = {1, 2}\n",
    "conjunto3 = {5, 6}\n",
    "\n",
    "print(conjunto1.issuperset(conjunto2))\n",
    "print(conjunto1.issuperset(conjunto3))\n"
   ]
  }
 ],
 "metadata": {
  "kernelspec": {
   "display_name": "Python 3",
   "language": "python",
   "name": "python3"
  },
  "language_info": {
   "codemirror_mode": {
    "name": "ipython",
    "version": 3
   },
   "file_extension": ".py",
   "mimetype": "text/x-python",
   "name": "python",
   "nbconvert_exporter": "python",
   "pygments_lexer": "ipython3",
   "version": "3.13.5"
  }
 },
 "nbformat": 4,
 "nbformat_minor": 5
}
