{
 "cells": [
  {
   "cell_type": "markdown",
   "id": "33d6636b",
   "metadata": {},
   "source": [
    "# Manipulacion de listas"
   ]
  },
  {
   "cell_type": "markdown",
   "id": "6040c8a3",
   "metadata": {},
   "source": [
    "### Metodo append()\n",
    "Añade un elemento al final de la lista"
   ]
  },
  {
   "cell_type": "code",
   "execution_count": 3,
   "id": "0d78b10c",
   "metadata": {},
   "outputs": [
    {
     "name": "stdout",
     "output_type": "stream",
     "text": [
      "['Real Madrid', 'Barcelona', 'Atletico de Madrid', 'Valencia', 'Sevilla']\n",
      "['Real Madrid', 'Barcelona', 'Atletico de Madrid', 'Valencia', 'Sevilla', 'Betis', 'Saprissa']\n"
     ]
    }
   ],
   "source": [
    "equipos = [\"Real Madrid\", \"Barcelona\", \"Atletico de Madrid\", \"Valencia\", \"Sevilla\"]\n",
    "\n",
    "print(equipos)\n",
    "\n",
    "equipos.append(\"Betis\")\n",
    "equipos.append(\"Saprissa\")\n",
    "print(equipos)"
   ]
  },
  {
   "cell_type": "markdown",
   "id": "ddad3f04",
   "metadata": {},
   "source": [
    "### Metodo insert()"
   ]
  },
  {
   "cell_type": "code",
   "execution_count": null,
   "id": "b7d24d8f",
   "metadata": {},
   "outputs": [
    {
     "name": "stdout",
     "output_type": "stream",
     "text": [
      "Equipos antes de aplicar insert: ['Real Madrid', 'Barcelona', 'Atletico de Madrid', 'Valencia', 'Sevilla', 'Betis', 'Saprissa']\n",
      "Equipos despues de aplicar insert: ['Real Madrid', 'Barcelona', 'Herediano', 'Atletico de Madrid', 'Valencia', 'Sevilla', 'Betis', 'Saprissa']\n"
     ]
    }
   ],
   "source": [
    "#Con insert se puede insertar un elemento en una posicion especifica de la lista\n",
    "print(f\"Equipos antes de aplicar insert: {equipos}\")\n",
    "\n",
    "#Primer valor es la posicion y la otra el elemento\n",
    "equipos.insert(2, \"Herediano\")\n",
    "\n",
    "print(f\"Equipos despues de aplicar insert: {equipos}\")"
   ]
  },
  {
   "cell_type": "markdown",
   "id": "1c342168",
   "metadata": {},
   "source": [
    "### Metodo count()"
   ]
  },
  {
   "cell_type": "code",
   "execution_count": 5,
   "id": "49babaf9",
   "metadata": {},
   "outputs": [
    {
     "name": "stdout",
     "output_type": "stream",
     "text": [
      "[1, 2, 3, 4, 4, 7, 8, 6, 4, 0, 10, 11, 6, 6, 0, 8, 8, 8, 4, 4, 2, 1]\n",
      "5\n"
     ]
    }
   ],
   "source": [
    "#Cuenta cuantas veces aparece un elemento en la lista\n",
    "lista_numeros = [1, 2, 3, 4, 4, 7, 8, 6, 4, 0, 10, 11, 6, 6, 0, 8, 8, 8, 4, 4, 2, 1]\n",
    "\n",
    "print(lista_numeros)\n",
    "\n",
    "print(lista_numeros.count(4))"
   ]
  },
  {
   "cell_type": "markdown",
   "id": "3eaaecbe",
   "metadata": {},
   "source": [
    "### Metodo reverse()"
   ]
  },
  {
   "cell_type": "code",
   "execution_count": 12,
   "id": "27e56bdc",
   "metadata": {},
   "outputs": [
    {
     "name": "stdout",
     "output_type": "stream",
     "text": [
      "[3, 6, 7, 9, 2, 1]\n",
      "[1, 2, 9, 7, 6, 3]\n"
     ]
    }
   ],
   "source": [
    "#Invierte el orden de los elementos de la lista\n",
    "mi_lista = [3, 6, 7, 9, 2, 1]\n",
    "print(mi_lista)\n",
    "mi_lista.reverse()\n",
    "print(mi_lista)"
   ]
  },
  {
   "cell_type": "markdown",
   "id": "60f3a4ea",
   "metadata": {},
   "source": [
    "### Metodo sort()"
   ]
  },
  {
   "cell_type": "code",
   "execution_count": 19,
   "id": "d3f1b4a8",
   "metadata": {},
   "outputs": [
    {
     "name": "stdout",
     "output_type": "stream",
     "text": [
      "[1, 2, 3, 6, 7, 9]\n",
      "[9, 7, 6, 3, 2, 1]\n"
     ]
    }
   ],
   "source": [
    "#Ordena la lista de menor a mayor\n",
    "mi_lista.sort()\n",
    "print(mi_lista)\n",
    "#Ordena la lista de mayor a menor\n",
    "mi_lista.sort(reverse=True)\n",
    "print(mi_lista)"
   ]
  },
  {
   "cell_type": "markdown",
   "id": "0565b2a3",
   "metadata": {},
   "source": [
    "### Metodo pop()"
   ]
  },
  {
   "cell_type": "code",
   "execution_count": 20,
   "id": "000c94a3",
   "metadata": {},
   "outputs": [
    {
     "name": "stdout",
     "output_type": "stream",
     "text": [
      "['Real Madrid', 'Barcelona', 'Herediano', 'Atletico de Madrid', 'Valencia', 'Sevilla', 'Betis', 'Saprissa']\n",
      "Saprissa\n",
      "['Real Madrid', 'Barcelona', 'Herediano', 'Atletico de Madrid', 'Valencia', 'Sevilla', 'Betis']\n"
     ]
    }
   ],
   "source": [
    "#Elimina y devuelve el elemento en una posicion especifica\n",
    "print(equipos)\n",
    "\n",
    "print(equipos.pop())  # Elimina el ultimo elemento\n",
    "print(equipos)\n"
   ]
  },
  {
   "cell_type": "markdown",
   "id": "41437f10",
   "metadata": {},
   "source": [
    "### Metodo remove()"
   ]
  },
  {
   "cell_type": "code",
   "execution_count": 21,
   "id": "e34f12a3",
   "metadata": {},
   "outputs": [
    {
     "name": "stdout",
     "output_type": "stream",
     "text": [
      "[1, 2, 3, 3, 5, 1, 2, 3]\n",
      "[1, 2, 3, 5, 1, 2, 3]\n"
     ]
    }
   ],
   "source": [
    "# Elimina la primera aparicion de un valor en la lista\n",
    "lista_repetidos = [1, 2, 3, 3, 5, 1, 2, 3]\n",
    "print(lista_repetidos)\n",
    "\n",
    "lista_repetidos.remove(3)\n",
    "print(lista_repetidos)  # Elimina la primera aparicion de 2"
   ]
  },
  {
   "cell_type": "markdown",
   "id": "0905f078",
   "metadata": {},
   "source": [
    "### Metodo clear()"
   ]
  },
  {
   "cell_type": "code",
   "execution_count": 22,
   "id": "e4f215cc",
   "metadata": {},
   "outputs": [
    {
     "name": "stdout",
     "output_type": "stream",
     "text": [
      "[]\n"
     ]
    }
   ],
   "source": [
    "#Elimina todos los elementos de la lista\n",
    "equipos.clear()\n",
    "print(equipos)"
   ]
  },
  {
   "cell_type": "markdown",
   "id": "f0d79e17",
   "metadata": {},
   "source": [
    "### Comando del"
   ]
  },
  {
   "cell_type": "code",
   "execution_count": 24,
   "id": "c7b26715",
   "metadata": {},
   "outputs": [
    {
     "name": "stdout",
     "output_type": "stream",
     "text": [
      "['Python', 'Java', 'JavaScript', 'Ruby']\n",
      "['Python', 'Java', 'JavaScript']\n"
     ]
    }
   ],
   "source": [
    "# Excluye un elemento de la lista\n",
    "lista_lenguajes = [\"Python\", \"Java\", \"JavaScript\", \"Ruby\"]\n",
    "print(lista_lenguajes)\n",
    "\n",
    "del lista_lenguajes[3]\n",
    "print(lista_lenguajes)  # Elimina \"Ruby\""
   ]
  },
  {
   "cell_type": "markdown",
   "id": "bebaf732",
   "metadata": {},
   "source": [
    "### Modificando elementos de una lista"
   ]
  },
  {
   "cell_type": "code",
   "execution_count": 25,
   "id": "4bb073b1",
   "metadata": {},
   "outputs": [
    {
     "name": "stdout",
     "output_type": "stream",
     "text": [
      "['Real Madrid', 'Barcelona', 'Atletico de Madrid', 'Valencia', 'Sevilla']\n",
      "['Real Madrid', 'Saprissa', 'Atletico de Madrid', 'Valencia', 'Sevilla']\n"
     ]
    }
   ],
   "source": [
    "equipos = [\"Real Madrid\", \"Barcelona\", \"Atletico de Madrid\", \"Valencia\", \"Sevilla\"]\n",
    "print(equipos)\n",
    "# Mutando (modificando) elementos de una lista\n",
    "equipos [1] = \"Saprissa\"\n",
    "print(equipos)\n"
   ]
  }
 ],
 "metadata": {
  "kernelspec": {
   "display_name": "Python 3",
   "language": "python",
   "name": "python3"
  },
  "language_info": {
   "codemirror_mode": {
    "name": "ipython",
    "version": 3
   },
   "file_extension": ".py",
   "mimetype": "text/x-python",
   "name": "python",
   "nbconvert_exporter": "python",
   "pygments_lexer": "ipython3",
   "version": "3.13.5"
  }
 },
 "nbformat": 4,
 "nbformat_minor": 5
}
