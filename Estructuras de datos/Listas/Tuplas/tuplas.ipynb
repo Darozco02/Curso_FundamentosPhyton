{
 "cells": [
  {
   "cell_type": "markdown",
   "id": "414826ef",
   "metadata": {},
   "source": [
    "# Tuplas - tuple()"
   ]
  },
  {
   "cell_type": "markdown",
   "id": "d9941933",
   "metadata": {},
   "source": [
    "Las tuplas son muy parecidas a las listas pero no son mutables"
   ]
  },
  {
   "cell_type": "markdown",
   "id": "f0a27d19",
   "metadata": {},
   "source": [
    "### Creacion de tuplas - tuple()"
   ]
  },
  {
   "cell_type": "code",
   "execution_count": 2,
   "id": "c88c4841",
   "metadata": {},
   "outputs": [
    {
     "name": "stdout",
     "output_type": "stream",
     "text": [
      "('Valeria', 'Barrantes', 22, False)\n",
      "<class 'tuple'>\n"
     ]
    }
   ],
   "source": [
    "usuario = (\"Valeria\", \"Barrantes\", 22, False)\n",
    "\n",
    "print(usuario)\n",
    "print(type(usuario))"
   ]
  },
  {
   "cell_type": "markdown",
   "id": "0bda60b7",
   "metadata": {},
   "source": [
    "### Accediendo a los elementos"
   ]
  },
  {
   "cell_type": "code",
   "execution_count": 4,
   "id": "5ff47b6b",
   "metadata": {},
   "outputs": [
    {
     "name": "stdout",
     "output_type": "stream",
     "text": [
      "Valeria\n",
      "Barrantes\n",
      "False\n"
     ]
    }
   ],
   "source": [
    "#Se acceden a los elementos de la tupla por su indice\n",
    "print(usuario[0])\n",
    "print(usuario[1])\n",
    "print(usuario[-1])"
   ]
  },
  {
   "cell_type": "markdown",
   "id": "13fd1f3a",
   "metadata": {},
   "source": [
    "### Metodo count()"
   ]
  },
  {
   "cell_type": "code",
   "execution_count": null,
   "id": "d174bb61",
   "metadata": {},
   "outputs": [
    {
     "data": {
      "text/plain": [
       "3"
      ]
     },
     "execution_count": 5,
     "metadata": {},
     "output_type": "execute_result"
    }
   ],
   "source": [
    "numeros = (1, 2, 3, 454, 50, 6, 7, 5, 854, 3, 0, 2, 2)\n",
    "\n",
    "#El count cuenta cuantas veces aparece un elemento en la tupla\n",
    "numeros.count(2)"
   ]
  },
  {
   "cell_type": "markdown",
   "id": "0add7535",
   "metadata": {},
   "source": [
    "### Metodo index"
   ]
  },
  {
   "cell_type": "code",
   "execution_count": null,
   "id": "45c32233",
   "metadata": {},
   "outputs": [
    {
     "data": {
      "text/plain": [
       "8"
      ]
     },
     "execution_count": 7,
     "metadata": {},
     "output_type": "execute_result"
    }
   ],
   "source": [
    "# Indica el indice del primer elemento encontrado\n",
    "numeros.index(854)"
   ]
  }
 ],
 "metadata": {
  "kernelspec": {
   "display_name": "Python 3",
   "language": "python",
   "name": "python3"
  },
  "language_info": {
   "codemirror_mode": {
    "name": "ipython",
    "version": 3
   },
   "file_extension": ".py",
   "mimetype": "text/x-python",
   "name": "python",
   "nbconvert_exporter": "python",
   "pygments_lexer": "ipython3",
   "version": "3.13.5"
  }
 },
 "nbformat": 4,
 "nbformat_minor": 5
}
