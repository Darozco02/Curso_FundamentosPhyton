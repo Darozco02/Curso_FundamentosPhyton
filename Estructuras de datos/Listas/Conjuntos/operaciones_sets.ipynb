{
 "cells": [
  {
   "cell_type": "markdown",
   "id": "28c15edf",
   "metadata": {},
   "source": [
    "# Operaciones con Sets - conjuntos"
   ]
  },
  {
   "cell_type": "markdown",
   "id": "1b4a1dbd",
   "metadata": {},
   "source": [
    "### Metodo Union()"
   ]
  },
  {
   "cell_type": "code",
   "execution_count": 1,
   "id": "3e663ffa",
   "metadata": {},
   "outputs": [
    {
     "name": "stdout",
     "output_type": "stream",
     "text": [
      "{1, 2, 3, 4, 5}\n",
      "{1, 2, 3, 4, 5}\n"
     ]
    }
   ],
   "source": [
    "#Devuelve un conjunto con los elementos de ambos conjuntos\\\n",
    "conjunto1 = {1, 2, 3}\n",
    "conjunto2 = {4, 2, 5}\n",
    "\n",
    "print(conjunto1.union(conjunto2))\n",
    "print(conjunto1 | conjunto2) # Otra forma de hacer la union con el signo |\n",
    "\n"
   ]
  },
  {
   "cell_type": "markdown",
   "id": "755af727",
   "metadata": {},
   "source": [
    "### Metodo interseccion()"
   ]
  },
  {
   "cell_type": "code",
   "execution_count": 3,
   "id": "d50e9b7a",
   "metadata": {},
   "outputs": [
    {
     "name": "stdout",
     "output_type": "stream",
     "text": [
      "{3}\n",
      "{3}\n"
     ]
    }
   ],
   "source": [
    "#Devuelve un conjunto con los elementos que se repiten en ambos conjuntos\n",
    "conjunto1 = {1, 2, 3}\n",
    "conjunto2 = {3, 4, 5}\n",
    "\n",
    "print(conjunto1.intersection(conjunto2))\n",
    "print(conjunto1 & conjunto2) # Otra forma de hacer la interseccion con el signo &"
   ]
  }
 ],
 "metadata": {
  "kernelspec": {
   "display_name": "Python 3",
   "language": "python",
   "name": "python3"
  },
  "language_info": {
   "codemirror_mode": {
    "name": "ipython",
    "version": 3
   },
   "file_extension": ".py",
   "mimetype": "text/x-python",
   "name": "python",
   "nbconvert_exporter": "python",
   "pygments_lexer": "ipython3",
   "version": "3.13.5"
  }
 },
 "nbformat": 4,
 "nbformat_minor": 5
}
