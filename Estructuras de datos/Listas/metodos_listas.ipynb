{
 "cells": [
  {
   "cell_type": "markdown",
   "id": "7c2a919b",
   "metadata": {},
   "source": [
    "### Metodo len()"
   ]
  },
  {
   "cell_type": "code",
   "execution_count": null,
   "id": "b902b162",
   "metadata": {},
   "outputs": [
    {
     "name": "stdout",
     "output_type": "stream",
     "text": [
      "5\n"
     ]
    }
   ],
   "source": [
    "#El metodo len() devuelve la cantidad de elementos de una lista.\n",
    "lista = [\"Homero\", \"Marge\", \"Bart\", \"Lisa\", \"Maggie\"]\n",
    "print(len(lista))"
   ]
  },
  {
   "cell_type": "markdown",
   "id": "51ead0d9",
   "metadata": {},
   "source": [
    "### Metodo index()"
   ]
  },
  {
   "cell_type": "code",
   "execution_count": 3,
   "id": "c41eaf7f",
   "metadata": {},
   "outputs": [
    {
     "name": "stdout",
     "output_type": "stream",
     "text": [
      "['Homero', 'Marge', 'Bart', 'Lisa', 'Maggie']\n",
      "3\n"
     ]
    }
   ],
   "source": [
    "#Para enconctrar el indice de un elemento en una lista se utiliza el metodo index()\n",
    "print(lista)\n",
    "\n",
    "print(lista.index(\"Lisa\"))"
   ]
  },
  {
   "cell_type": "markdown",
   "id": "41c3caa4",
   "metadata": {},
   "source": [
    "### Metodo sorted()"
   ]
  },
  {
   "cell_type": "code",
   "execution_count": 4,
   "id": "e3d27f26",
   "metadata": {},
   "outputs": [
    {
     "name": "stdout",
     "output_type": "stream",
     "text": [
      "[1, 6, 3, 0, 9, 6, 8]\n",
      "[0, 1, 3, 6, 6, 8, 9]\n"
     ]
    }
   ],
   "source": [
    "#Devuelve una lista ordenada de menor a mayor, sin modificar la lista original.\n",
    "lista_desordenada = [1,6,3,0,9,6,8]\n",
    "print(lista_desordenada)\n",
    "\n",
    "lista_ordenada = sorted(lista_desordenada)\n",
    "print(lista_ordenada)"
   ]
  }
 ],
 "metadata": {
  "kernelspec": {
   "display_name": "Python 3",
   "language": "python",
   "name": "python3"
  },
  "language_info": {
   "codemirror_mode": {
    "name": "ipython",
    "version": 3
   },
   "file_extension": ".py",
   "mimetype": "text/x-python",
   "name": "python",
   "nbconvert_exporter": "python",
   "pygments_lexer": "ipython3",
   "version": "3.13.5"
  }
 },
 "nbformat": 4,
 "nbformat_minor": 5
}
