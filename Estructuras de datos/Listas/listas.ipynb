{
 "cells": [
  {
   "cell_type": "markdown",
   "id": "8cebfcf3",
   "metadata": {},
   "source": [
    "# Listas - list[]"
   ]
  },
  {
   "cell_type": "markdown",
   "id": "ea2735a9",
   "metadata": {},
   "source": [
    "las listas son una coleccion ordenada y mutable, se pueden almacenar datos de diferentes tipos en una lista y se usan con [] los elementos se separan con comas.\n",
    "\n",
    "- los elementos tienen un indice\n",
    "- se pueden modificar datos\n",
    "- se permiten duplicados"
   ]
  },
  {
   "cell_type": "code",
   "execution_count": null,
   "id": "5a50d321",
   "metadata": {},
   "outputs": [
    {
     "name": "stdout",
     "output_type": "stream",
     "text": [
      "<class 'list'>\n",
      "['Saprissa', 'Alajuelense', 'Herediano', 'Cartago']\n"
     ]
    }
   ],
   "source": [
    "#Creacion de listas con los mismos datos\n",
    "lista_equipos = [\"Saprissa\", \"Alajuelense\", \"Herediano\", \"Cartago\"]\n",
    "\n",
    "print(type(lista_equipos))\n",
    "print(lista_equipos)"
   ]
  },
  {
   "cell_type": "code",
   "execution_count": 2,
   "id": "ff35c4df",
   "metadata": {},
   "outputs": [
    {
     "name": "stdout",
     "output_type": "stream",
     "text": [
      "<class 'list'>\n",
      "['Saprissa', 40, True, 3.14]\n"
     ]
    }
   ],
   "source": [
    "#Creacion de listas con diferentes tipos de datos\n",
    "lista_heterogenea = [\"Saprissa\", 40, True, 3.14]\n",
    "print(type(lista_heterogenea))\n",
    "print(lista_heterogenea)"
   ]
  },
  {
   "cell_type": "code",
   "execution_count": 4,
   "id": "5a255145",
   "metadata": {},
   "outputs": [
    {
     "name": "stdout",
     "output_type": "stream",
     "text": [
      "<class 'list'>\n",
      "[2002, 'Daniel', [1, 35, 17, True], ['Saprissa', 'Alajuelense', 'Herediano', 'Cartago']]\n"
     ]
    }
   ],
   "source": [
    "#Creacion de lista dentro de una lista\n",
    "lista_mixta = [2002, \"Daniel\", [1,35, 17, True], lista_equipos]\n",
    "\n",
    "print(type(lista_mixta))\n",
    "print(lista_mixta)"
   ]
  },
  {
   "cell_type": "markdown",
   "id": "9e23ba41",
   "metadata": {},
   "source": [
    "## Accediendo a las listas por medio de indice"
   ]
  },
  {
   "cell_type": "code",
   "execution_count": null,
   "id": "b9182555",
   "metadata": {},
   "outputs": [
    {
     "name": "stdout",
     "output_type": "stream",
     "text": [
      "Vettel\n",
      "Hamilton\n",
      "Alonso\n",
      "Verstappen\n",
      "Verstappen\n"
     ]
    }
   ],
   "source": [
    "lista_formula1 = [\"Hamilton\", \"Verstappen\", \"Leclerc\", \"Vettel\", \"Alonso\"]\n",
    "\n",
    "print(lista_formula1[3])\n",
    "print(lista_formula1[0])\n",
    "print(lista_formula1[-1])\n",
    "print(lista_formula1[-4])"
   ]
  },
  {
   "cell_type": "code",
   "execution_count": 13,
   "id": "18d25ad6",
   "metadata": {},
   "outputs": [
    {
     "name": "stdout",
     "output_type": "stream",
     "text": [
      "Saprissa\n"
     ]
    }
   ],
   "source": [
    "print(lista_mixta[-1][0])"
   ]
  },
  {
   "cell_type": "code",
   "execution_count": 21,
   "id": "2447c4d8",
   "metadata": {},
   "outputs": [
    {
     "name": "stdout",
     "output_type": "stream",
     "text": [
      "['Hamilton', 'Verstappen', 'Leclerc', 'Vettel', 'Alonso']\n",
      "-----------------------------------------------------------\n",
      "['Hamilton', 'Verstappen']\n"
     ]
    }
   ],
   "source": [
    "print(lista_formula1)\n",
    "print(\"-----------------------------------------------------------\")\n",
    "print(lista_formula1[0:2])"
   ]
  },
  {
   "cell_type": "markdown",
   "id": "64b7be5c",
   "metadata": {},
   "source": [
    "## Operadores in y not in"
   ]
  },
  {
   "cell_type": "code",
   "execution_count": 25,
   "id": "11e0a331",
   "metadata": {},
   "outputs": [
    {
     "name": "stdout",
     "output_type": "stream",
     "text": [
      "['Hamilton', 'Verstappen', 'Leclerc', 'Vettel', 'Alonso']\n",
      "False\n",
      "True\n",
      "False\n",
      "True\n"
     ]
    }
   ],
   "source": [
    "print(lista_formula1)\n",
    "\n",
    "#in (pregunta si un elemento esta en la lista)\n",
    "print(\"Hamilton\" in lista_equipos)\n",
    "print(\"Verstappen\" in lista_formula1)\n",
    "\n",
    "#not in (pregunta si un elemento no esta en la lista)\n",
    "print(\"Hamilton\" not in lista_formula1)\n",
    "print(\"Vader\" not in lista_formula1)"
   ]
  }
 ],
 "metadata": {
  "kernelspec": {
   "display_name": "Python 3",
   "language": "python",
   "name": "python3"
  },
  "language_info": {
   "codemirror_mode": {
    "name": "ipython",
    "version": 3
   },
   "file_extension": ".py",
   "mimetype": "text/x-python",
   "name": "python",
   "nbconvert_exporter": "python",
   "pygments_lexer": "ipython3",
   "version": "3.13.5"
  }
 },
 "nbformat": 4,
 "nbformat_minor": 5
}
