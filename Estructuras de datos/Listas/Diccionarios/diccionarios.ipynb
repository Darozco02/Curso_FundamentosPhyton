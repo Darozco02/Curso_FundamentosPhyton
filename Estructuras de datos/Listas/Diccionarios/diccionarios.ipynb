{
 "cells": [
  {
   "cell_type": "markdown",
   "id": "3dd3a893",
   "metadata": {},
   "source": [
    "# Diccionarios dict{key : value}"
   ]
  },
  {
   "cell_type": "markdown",
   "id": "2ed5fe66",
   "metadata": {},
   "source": [
    "los diccionarios usan claves\n",
    "\n",
    "Principales caracteristicas\n",
    "- Desordenadas\n",
    "- Acceso Rapido\n",
    "- Claves Unicas\n",
    "- Valores Mutables\n",
    "\n",
    "{\"Clave\" : \"Valor\"}"
   ]
  },
  {
   "cell_type": "markdown",
   "id": "3456fc1b",
   "metadata": {},
   "source": [
    "### Creacion de un diccionario"
   ]
  },
  {
   "cell_type": "code",
   "execution_count": null,
   "id": "11587c8c",
   "metadata": {},
   "outputs": [
    {
     "name": "stdout",
     "output_type": "stream",
     "text": [
      "{'nombre': 'Daniela', 'apellido': 'Orozco', 'equipo': 'Real Madrid'}\n",
      "Real Madrid\n"
     ]
    }
   ],
   "source": [
    "mi_dict = {\n",
    "    \"nombre\" : \"Daniel\", \n",
    "    \"nombre\" : \"Daniela\",\n",
    "    \"apellido\" : \"Orozco\",\n",
    "    \"equipo\" : \"Real Madrid\"\n",
    "}\n",
    "#Si repito una clave el valor se sobreescribe\n",
    "\n",
    "print(mi_dict)\n",
    "print(mi_dict[\"equipo\"])"
   ]
  },
  {
   "cell_type": "markdown",
   "id": "12175b90",
   "metadata": {},
   "source": [
    "### Accediendo a claves y valores"
   ]
  },
  {
   "cell_type": "code",
   "execution_count": null,
   "id": "d30d4778",
   "metadata": {},
   "outputs": [],
   "source": [
    "mi_dict = {\n",
    "    \"nombre\" : \"Daniel\", \n",
    "    \"apellido\" : \"Orozco\",\n",
    "    \"edad\" : 23,\n",
    "    \"equipo\" : \"Real Madrid\"\n",
    "}"
   ]
  },
  {
   "cell_type": "markdown",
   "id": "557ed783",
   "metadata": {},
   "source": [
    "### Metodo keys()"
   ]
  },
  {
   "cell_type": "code",
   "execution_count": null,
   "id": "67bd241e",
   "metadata": {},
   "outputs": [
    {
     "name": "stdout",
     "output_type": "stream",
     "text": [
      "dict_keys(['nombre', 'apellido', 'equipo'])\n"
     ]
    }
   ],
   "source": [
    "#El metodo keys() devuelve las claves del diccionario\n",
    "print(mi_dict.keys())"
   ]
  },
  {
   "cell_type": "markdown",
   "id": "bd966da6",
   "metadata": {},
   "source": [
    "### Metodo values()"
   ]
  },
  {
   "cell_type": "code",
   "execution_count": 6,
   "id": "94140eb0",
   "metadata": {},
   "outputs": [
    {
     "name": "stdout",
     "output_type": "stream",
     "text": [
      "dict_values(['Daniela', 'Orozco', 'Real Madrid'])\n"
     ]
    }
   ],
   "source": [
    "#El metodo values() devuelve los valores del diccionario\n",
    "print(mi_dict.values())"
   ]
  },
  {
   "cell_type": "markdown",
   "id": "37739110",
   "metadata": {},
   "source": [
    "### Metodo items()"
   ]
  },
  {
   "cell_type": "code",
   "execution_count": null,
   "id": "22372dbd",
   "metadata": {},
   "outputs": [
    {
     "name": "stdout",
     "output_type": "stream",
     "text": [
      "dict_items([('nombre', 'Daniela'), ('apellido', 'Orozco'), ('equipo', 'Real Madrid')])\n"
     ]
    }
   ],
   "source": [
    "#El metodo items() devuelve las claves y valores del diccionario\n",
    "print(mi_dict.items())"
   ]
  },
  {
   "cell_type": "markdown",
   "id": "fa2c0d42",
   "metadata": {},
   "source": [
    "## Acceder a los elementos de un diccionario"
   ]
  },
  {
   "cell_type": "markdown",
   "id": "b37a15ec",
   "metadata": {},
   "source": [
    "### llamando la clave/llave"
   ]
  },
  {
   "cell_type": "code",
   "execution_count": 8,
   "id": "922a2559",
   "metadata": {},
   "outputs": [
    {
     "name": "stdout",
     "output_type": "stream",
     "text": [
      "Daniel\n",
      "Orozco\n",
      "23\n",
      "daniel@gmail.com\n"
     ]
    }
   ],
   "source": [
    "datos_personales = {\n",
    "    \"nombre\" : \"Daniel\", \n",
    "    \"apellido\" : \"Orozco\",\n",
    "    \"edad\" : 23,\n",
    "    \"correo\" : \"daniel@gmail.com\"\n",
    "}\n",
    "\n",
    "print(datos_personales[\"nombre\"])\n",
    "print(datos_personales[\"apellido\"])\n",
    "print(datos_personales[\"edad\"])\n",
    "print(datos_personales[\"correo\"])"
   ]
  },
  {
   "cell_type": "markdown",
   "id": "444772f8",
   "metadata": {},
   "source": [
    "### Metodo get()"
   ]
  },
  {
   "cell_type": "code",
   "execution_count": 10,
   "id": "7e4c1c2b",
   "metadata": {},
   "outputs": [
    {
     "name": "stdout",
     "output_type": "stream",
     "text": [
      "nombre: Daniel\n",
      "apellido: Orozco\n",
      "edad: 23\n"
     ]
    }
   ],
   "source": [
    "#Devuelve el valor de la clave si existe, si no devuelve None\n",
    "print(f\"nombre: {datos_personales.get(\"nombre\")}\")\n",
    "print(f\"apellido: {datos_personales.get(\"apellido\")}\")\n",
    "print(f\"edad: {datos_personales.get(\"edad\")}\")"
   ]
  },
  {
   "cell_type": "markdown",
   "id": "bee74801",
   "metadata": {},
   "source": [
    "### Insertar elementos"
   ]
  },
  {
   "cell_type": "code",
   "execution_count": 12,
   "id": "5481b3ce",
   "metadata": {},
   "outputs": [
    {
     "name": "stdout",
     "output_type": "stream",
     "text": [
      "{'nombre': 'Daniel', 'apellido': 'Orozco', 'edad': 23, 'correo': 'daniel@gmail.com', 'sexo': ['Masculino']}\n"
     ]
    }
   ],
   "source": [
    "datos_personales[\"sexo\"] = [\"Masculino\"]\n",
    "print(datos_personales)"
   ]
  },
  {
   "cell_type": "markdown",
   "id": "c3fea068",
   "metadata": {},
   "source": [
    "### Actualizando elementos"
   ]
  },
  {
   "cell_type": "code",
   "execution_count": 14,
   "id": "c1cdb56b",
   "metadata": {},
   "outputs": [
    {
     "name": "stdout",
     "output_type": "stream",
     "text": [
      "{'nombre': 'Valeria', 'apellido': 'Orozco', 'edad': 24, 'correo': 'Valeria@gmail.com', 'sexo': ['Masculino']}\n"
     ]
    }
   ],
   "source": [
    "datos_personales[\"edad\"] = 24\n",
    "datos_personales[\"edad\"] = 24\n",
    "datos_personales[\"correo\"] = \"Valeria@gmail.com\"\n",
    "\n",
    "print(datos_personales)"
   ]
  },
  {
   "cell_type": "markdown",
   "id": "c67ba93b",
   "metadata": {},
   "source": [
    "### Eliminar elementos con pop()"
   ]
  },
  {
   "cell_type": "code",
   "execution_count": 15,
   "id": "5dd30d5a",
   "metadata": {},
   "outputs": [
    {
     "name": "stdout",
     "output_type": "stream",
     "text": [
      "{'nombre': 'Valeria', 'apellido': 'Orozco', 'edad': 24, 'sexo': ['Masculino']}\n"
     ]
    }
   ],
   "source": [
    "datos_personales.pop(\"correo\")\n",
    "\n",
    "print(datos_personales)"
   ]
  },
  {
   "cell_type": "markdown",
   "id": "89d7fee7",
   "metadata": {},
   "source": [
    "### Metodo popitem()"
   ]
  },
  {
   "cell_type": "code",
   "execution_count": null,
   "id": "c0432f45",
   "metadata": {},
   "outputs": [
    {
     "name": "stdout",
     "output_type": "stream",
     "text": [
      "('edad', 24)\n",
      "{'nombre': 'Valeria', 'apellido': 'Orozco'}\n"
     ]
    }
   ],
   "source": [
    "#Elimina el ultimo elemento del diccionario y lo guarda\n",
    "sexo = datos_personales.popitem()\n",
    "print(sexo)\n",
    "print(datos_personales)"
   ]
  },
  {
   "cell_type": "markdown",
   "id": "40076542",
   "metadata": {},
   "source": [
    "### Metodo clear()"
   ]
  },
  {
   "cell_type": "code",
   "execution_count": 18,
   "id": "c65418db",
   "metadata": {},
   "outputs": [
    {
     "name": "stdout",
     "output_type": "stream",
     "text": [
      "{}\n"
     ]
    }
   ],
   "source": [
    "#Elimina todos los elementos del diccionario\n",
    "datos_personales.clear()\n",
    "print(datos_personales)"
   ]
  }
 ],
 "metadata": {
  "kernelspec": {
   "display_name": "Python 3",
   "language": "python",
   "name": "python3"
  },
  "language_info": {
   "codemirror_mode": {
    "name": "ipython",
    "version": 3
   },
   "file_extension": ".py",
   "mimetype": "text/x-python",
   "name": "python",
   "nbconvert_exporter": "python",
   "pygments_lexer": "ipython3",
   "version": "3.13.5"
  }
 },
 "nbformat": 4,
 "nbformat_minor": 5
}
