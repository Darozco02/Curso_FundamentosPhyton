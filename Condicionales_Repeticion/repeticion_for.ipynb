{
 "cells": [
  {
   "cell_type": "markdown",
   "id": "ad85cb81",
   "metadata": {},
   "source": [
    "# Repeticion For"
   ]
  },
  {
   "cell_type": "markdown",
   "id": "4979259e",
   "metadata": {},
   "source": [
    "Es para iterrar (recorrer) una secuencia, como una lista, tupla, diccionario. Es util para repetir un bloque de codigo las veces que quiera."
   ]
  },
  {
   "cell_type": "markdown",
   "id": "d7c7df4a",
   "metadata": {},
   "source": [
    "### Uso de for con listas"
   ]
  },
  {
   "cell_type": "code",
   "execution_count": null,
   "id": "9b886991",
   "metadata": {},
   "outputs": [
    {
     "name": "stdout",
     "output_type": "stream",
     "text": [
      "moto\n",
      "carro\n",
      "bicicleta\n",
      "avion\n",
      "helicoptero\n"
     ]
    }
   ],
   "source": [
    "vehiculos = [\"moto\", \"carro\", \"bicicleta\", \"avion\", \"helicoptero\"]\n",
    "\n",
    "#Para recorrer la lista\n",
    "for i in vehiculos: \n",
    "    print(i)"
   ]
  },
  {
   "cell_type": "code",
   "execution_count": null,
   "id": "d8198a1c",
   "metadata": {},
   "outputs": [
    {
     "name": "stdout",
     "output_type": "stream",
     "text": [
      "Numero original: 1. numero multiplicado por 10: 1 x 10 = 10\n",
      "Numero original: 2. numero multiplicado por 10: 2 x 10 = 20\n",
      "Numero original: 3. numero multiplicado por 10: 3 x 10 = 30\n",
      "Numero original: 4. numero multiplicado por 10: 4 x 10 = 40\n",
      "Numero original: 5. numero multiplicado por 10: 5 x 10 = 50\n"
     ]
    }
   ],
   "source": [
    "numeros = [1, 2, 3, 4, 5]\n",
    "\n",
    "# Para recorrer la lista y hacer acciones con ella\n",
    "for numero in numeros:\n",
    "    print(f\"Numero original: {numero}. numero multiplicado por 10: {numero} x 10 = {numero * 10}\")"
   ]
  },
  {
   "cell_type": "markdown",
   "id": "1ca502be",
   "metadata": {},
   "source": [
    "### Uso de for con tuplas"
   ]
  },
  {
   "cell_type": "code",
   "execution_count": 3,
   "id": "65ffdabd",
   "metadata": {},
   "outputs": [
    {
     "name": "stdout",
     "output_type": "stream",
     "text": [
      "Darozco\n",
      "phyton123\n",
      "Cartago\n"
     ]
    }
   ],
   "source": [
    "usuario = (\"Darozco\", \"phyton123\", \"Cartago\")\n",
    "\n",
    "for dato in usuario:\n",
    "    print(dato)"
   ]
  },
  {
   "cell_type": "markdown",
   "id": "5a3a1c06",
   "metadata": {},
   "source": [
    "### Uso de for con set"
   ]
  },
  {
   "cell_type": "code",
   "execution_count": 4,
   "id": "6164a3dc",
   "metadata": {},
   "outputs": [
    {
     "name": "stdout",
     "output_type": "stream",
     "text": [
      "1\n",
      "2\n",
      "3\n",
      "4\n",
      "5\n"
     ]
    }
   ],
   "source": [
    "numeros = {1, 2, 3, 4, 5}\n",
    "\n",
    "for i in numeros:\n",
    "    print(i)"
   ]
  },
  {
   "cell_type": "markdown",
   "id": "0b5c946d",
   "metadata": {},
   "source": [
    "### Uso de for con str"
   ]
  },
  {
   "cell_type": "code",
   "execution_count": 5,
   "id": "9e9050d0",
   "metadata": {},
   "outputs": [
    {
     "name": "stdout",
     "output_type": "stream",
     "text": [
      "O\n",
      "r\n",
      "o\n",
      "z\n",
      "c\n",
      "o\n"
     ]
    }
   ],
   "source": [
    "apellido = \"Orozco\"\n",
    "\n",
    "for letra in apellido:\n",
    "    print(letra)"
   ]
  },
  {
   "cell_type": "code",
   "execution_count": 8,
   "id": "2b799fc0",
   "metadata": {},
   "outputs": [
    {
     "name": "stdout",
     "output_type": "stream",
     "text": [
      "O Daniel\n",
      "r Daniel\n",
      "o Daniel\n",
      "z Daniel\n",
      "c Daniel\n",
      "o Daniel\n"
     ]
    }
   ],
   "source": [
    "# Codigo de prueba\n",
    "\n",
    "apellido = \"Orozco\"\n",
    "\n",
    "for letra in apellido:\n",
    "    print(letra + f\" Daniel\")"
   ]
  },
  {
   "cell_type": "markdown",
   "id": "c7aacfff",
   "metadata": {},
   "source": [
    "### Uso de for con diccionarios"
   ]
  },
  {
   "cell_type": "code",
   "execution_count": 14,
   "id": "d0c0aad7",
   "metadata": {},
   "outputs": [
    {
     "name": "stdout",
     "output_type": "stream",
     "text": [
      "nombre\n",
      "apellido\n",
      "edad\n"
     ]
    }
   ],
   "source": [
    "datos_personales = {\n",
    "    \"nombre\" : \"Daniel\",\n",
    "    \"apellido\" : \"Orozco\",\n",
    "    \"edad\" : 23\n",
    "}\n",
    "\n",
    "# Iterando (recorriendo) las llaves y valores de un diccionario\n",
    "\n",
    "#Recorriendo las llaves\n",
    "for key in datos_personales.keys():\n",
    "    print(key)"
   ]
  },
  {
   "cell_type": "code",
   "execution_count": null,
   "id": "5f334cf9",
   "metadata": {},
   "outputs": [
    {
     "name": "stdout",
     "output_type": "stream",
     "text": [
      "Daniel\n",
      "Orozco\n",
      "23\n"
     ]
    }
   ],
   "source": [
    "datos_personales = {\n",
    "    \"nombre\" : \"Daniel\",\n",
    "    \"apellido\" : \"Orozco\",\n",
    "    \"edad\" : 23\n",
    "}\n",
    "\n",
    "#Recorriendo los valores\n",
    "for value in datos_personales.values():\n",
    "    print(value)"
   ]
  },
  {
   "cell_type": "code",
   "execution_count": 21,
   "id": "63eab984",
   "metadata": {},
   "outputs": [
    {
     "name": "stdout",
     "output_type": "stream",
     "text": [
      "nombre ----> Daniel\n",
      "apellido ----> Orozco\n",
      "edad ----> 23\n"
     ]
    }
   ],
   "source": [
    "datos_personales = {\n",
    "    \"nombre\" : \"Daniel\",\n",
    "    \"apellido\" : \"Orozco\",\n",
    "    \"edad\" : 23\n",
    "}\n",
    "\n",
    "#Recorriendo las llaves y los valores con el metodo items()\n",
    "for key, value in datos_personales.items():\n",
    "    print(f\"{key} ----> {value}\")"
   ]
  },
  {
   "cell_type": "markdown",
   "id": "7fd43880",
   "metadata": {},
   "source": [
    "### Uso de for con range()"
   ]
  },
  {
   "cell_type": "code",
   "execution_count": 26,
   "id": "1f047bfe",
   "metadata": {},
   "outputs": [
    {
     "name": "stdout",
     "output_type": "stream",
     "text": [
      "0\n",
      "1\n",
      "2\n",
      "3\n",
      "4\n",
      "5\n",
      "6\n",
      "7\n",
      "8\n",
      "9\n",
      "10\n"
     ]
    }
   ],
   "source": [
    "#Range recibe un inicio, fin(no lo incluye), cuanto avanza\n",
    "\n",
    "#Para iterar (recorrer) un rango en especifico sin poner cuanto avanza\n",
    "for i in range(0, 11):\n",
    "    print(i)\n",
    "    "
   ]
  },
  {
   "cell_type": "code",
   "execution_count": 27,
   "id": "e5f3a672",
   "metadata": {},
   "outputs": [
    {
     "name": "stdout",
     "output_type": "stream",
     "text": [
      "0\n",
      "2\n",
      "4\n",
      "6\n",
      "8\n",
      "10\n",
      "12\n",
      "14\n",
      "16\n",
      "18\n"
     ]
    }
   ],
   "source": [
    "for elemento in range(0, 20, 2):\n",
    "    print(elemento)"
   ]
  },
  {
   "cell_type": "code",
   "execution_count": 30,
   "id": "535f39e6",
   "metadata": {},
   "outputs": [
    {
     "name": "stdout",
     "output_type": "stream",
     "text": [
      "0. Estoy aprendiendo a utilizar el for\n",
      "1. Estoy aprendiendo a utilizar el for\n",
      "2. Estoy aprendiendo a utilizar el for\n",
      "3. Estoy aprendiendo a utilizar el for\n",
      "4. Estoy aprendiendo a utilizar el for\n"
     ]
    }
   ],
   "source": [
    "#Para elegir cuantas veces se repite algo dentro de un for\n",
    "for i in range(5):\n",
    "    print(f\"{i}. Estoy aprendiendo a utilizar el for\")"
   ]
  },
  {
   "cell_type": "markdown",
   "id": "3ba30ad0",
   "metadata": {},
   "source": [
    "### Uso de for con enumerate()"
   ]
  },
  {
   "cell_type": "code",
   "execution_count": null,
   "id": "2c2ecec6",
   "metadata": {},
   "outputs": [
    {
     "name": "stdout",
     "output_type": "stream",
     "text": [
      "indice 1: Phyton\n",
      "indice 2: JavaScript\n",
      "indice 3: C++\n",
      "indice 4: Java\n"
     ]
    }
   ],
   "source": [
    "# enumerate() tiene una secuencia\n",
    "\n",
    "lenguajes = [\"Phyton\", \"JavaScript\", \"C++\", \"Java\"]\n",
    "\n",
    "#enumerate(secuencia, inicio=0)\n",
    "#Aqui pongo el inicio en 1 para que empiece en 1\n",
    "for indice, lenguaje in enumerate(lenguajes, 1):\n",
    "    print(f\"indice {indice}: {lenguaje}\")"
   ]
  }
 ],
 "metadata": {
  "kernelspec": {
   "display_name": "Python 3",
   "language": "python",
   "name": "python3"
  },
  "language_info": {
   "codemirror_mode": {
    "name": "ipython",
    "version": 3
   },
   "file_extension": ".py",
   "mimetype": "text/x-python",
   "name": "python",
   "nbconvert_exporter": "python",
   "pygments_lexer": "ipython3",
   "version": "3.13.5"
  }
 },
 "nbformat": 4,
 "nbformat_minor": 5
}
