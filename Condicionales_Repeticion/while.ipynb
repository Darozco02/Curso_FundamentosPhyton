{
 "cells": [
  {
   "cell_type": "markdown",
   "id": "af3120a7",
   "metadata": {},
   "source": [
    "# While"
   ]
  },
  {
   "cell_type": "markdown",
   "id": "0c2ac6ab",
   "metadata": {},
   "source": [
    "Ejecuta un bloque de codigo mientras se cumpla una condicion"
   ]
  },
  {
   "cell_type": "markdown",
   "id": "32e68310",
   "metadata": {},
   "source": [
    "### While con un contador"
   ]
  },
  {
   "cell_type": "code",
   "execution_count": 8,
   "id": "38094e8d",
   "metadata": {},
   "outputs": [
    {
     "name": "stdout",
     "output_type": "stream",
     "text": [
      "Contador al llegar al ciclo while = 0\n",
      "Hola mundo Phyton!!\n",
      "Contador al salir del ciclo while = 1\n",
      "\n",
      "Contador al llegar al ciclo while = 1\n",
      "Hola mundo Phyton!!\n",
      "Contador al salir del ciclo while = 2\n",
      "\n",
      "Contador al llegar al ciclo while = 2\n",
      "Hola mundo Phyton!!\n",
      "Contador al salir del ciclo while = 3\n",
      "\n",
      "Contador al llegar al ciclo while = 3\n",
      "Hola mundo Phyton!!\n",
      "Contador al salir del ciclo while = 4\n",
      "\n",
      "Contador al llegar al ciclo while = 4\n",
      "Hola mundo Phyton!!\n",
      "Contador al salir del ciclo while = 5\n",
      "\n",
      "Fin de la ejecucion del ciclo while\n"
     ]
    }
   ],
   "source": [
    "contador = 0\n",
    "\n",
    "#El contador + 1 hace que la variable contador vaya sumando hasta valer 5\n",
    "# Si no seria un buucle infinito\n",
    "while contador < 5:\n",
    "    print(f\"Contador al llegar al ciclo while = {contador}\")\n",
    "    print(\"Hola mundo Phyton!!\")\n",
    "    contador += 1\n",
    "    print(f\"Contador al salir del ciclo while = {contador}\\n\")\n",
    "\n",
    "print(\"Fin de la ejecucion del ciclo while\")"
   ]
  },
  {
   "cell_type": "code",
   "execution_count": null,
   "id": "4dbd1c67",
   "metadata": {},
   "outputs": [
    {
     "name": "stdout",
     "output_type": "stream",
     "text": [
      "Recibi un ataque. Pierdo 1 punto de vida\n",
      "Puntos de vida restantes: 9\n",
      "--------------------------------------------------\n",
      "Recibi un ataque. Pierdo 1 punto de vida\n",
      "Puntos de vida restantes: 8\n",
      "--------------------------------------------------\n",
      "Recibi un ataque. Pierdo 1 punto de vida\n",
      "Puntos de vida restantes: 7\n",
      "--------------------------------------------------\n",
      "Recibi un ataque. Pierdo 1 punto de vida\n",
      "Puntos de vida restantes: 6\n",
      "--------------------------------------------------\n",
      "Recibi un ataque. Pierdo 1 punto de vida\n",
      "Puntos de vida restantes: 5\n",
      "--------------------------------------------------\n",
      "Recibi un ataque. Pierdo 1 punto de vida\n",
      "Puntos de vida restantes: 4\n",
      "--------------------------------------------------\n",
      "Recibi un ataque. Pierdo 1 punto de vida\n",
      "Puntos de vida restantes: 3\n",
      "--------------------------------------------------\n",
      "Recibi un ataque. Pierdo 1 punto de vida\n",
      "Puntos de vida restantes: 2\n",
      "--------------------------------------------------\n",
      "Recibi un ataque. Pierdo 1 punto de vida\n",
      "Puntos de vida restantes: 1\n",
      "--------------------------------------------------\n",
      "Recibi un ataque. Pierdo 1 punto de vida\n",
      "Puntos de vida restantes: 0\n",
      "--------------------------------------------------\n",
      "Perdiste la partida :(\n"
     ]
    }
   ],
   "source": [
    "#Nuevo ejemplo\n",
    "vida_personaje = 10\n",
    "\n",
    "while vida_personaje > 0:\n",
    "    print(f\"Recibi un ataque. Pierdo 1 punto de vida\")\n",
    "    vida_personaje -= 1\n",
    "    print(f\"Puntos de vida restantes: {vida_personaje}\")\n",
    "    print(\"-\" * 50)\n",
    "\n",
    "print(\"Perdiste la partida :(\")"
   ]
  },
  {
   "cell_type": "markdown",
   "id": "0ccb73bd",
   "metadata": {},
   "source": [
    "### Cuidado con los bucles infinitos!!!"
   ]
  },
  {
   "cell_type": "code",
   "execution_count": 23,
   "id": "a20f57b2",
   "metadata": {},
   "outputs": [
    {
     "name": "stdout",
     "output_type": "stream",
     "text": [
      "*\n",
      "*\n",
      "*\n",
      "*\n",
      "*\n",
      "*\n",
      "Fin del ciclo while\n"
     ]
    }
   ],
   "source": [
    "#Codigo de prueba\n",
    "contador = 0\n",
    "simbolo = \"*\"\n",
    "\n",
    "while contador < 6:\n",
    "    print(f\"{simbolo}\")\n",
    "    contador += 1\n",
    "    \n",
    "\n",
    "print(\"Fin del ciclo while\")"
   ]
  }
 ],
 "metadata": {
  "kernelspec": {
   "display_name": "Python 3",
   "language": "python",
   "name": "python3"
  },
  "language_info": {
   "codemirror_mode": {
    "name": "ipython",
    "version": 3
   },
   "file_extension": ".py",
   "mimetype": "text/x-python",
   "name": "python",
   "nbconvert_exporter": "python",
   "pygments_lexer": "ipython3",
   "version": "3.13.5"
  }
 },
 "nbformat": 4,
 "nbformat_minor": 5
}
