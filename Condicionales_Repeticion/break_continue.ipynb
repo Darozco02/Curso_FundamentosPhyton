{
 "cells": [
  {
   "cell_type": "markdown",
   "id": "2f1dd97e",
   "metadata": {},
   "source": [
    "# Sentencias break y continue"
   ]
  },
  {
   "cell_type": "markdown",
   "id": "39f9fe99",
   "metadata": {},
   "source": [
    "### Break con while"
   ]
  },
  {
   "cell_type": "code",
   "execution_count": 1,
   "id": "136003a1",
   "metadata": {},
   "outputs": [
    {
     "name": "stdout",
     "output_type": "stream",
     "text": [
      "Dia del mes: 1\n",
      "Dia del mes: 2\n",
      "Dia del mes: 3\n",
      "Dia del mes: 4\n",
      "Dia del mes: 5\n",
      "Dia del mes: 6\n",
      "Dia del mes: 7\n",
      "Dia del mes: 8\n",
      "Dia del mes: 9\n",
      "Dia del mes: 10\n",
      "Dia del mes: 11\n",
      "Dia del mes: 12\n",
      "El ciclo while termino en el dia: 13\n"
     ]
    }
   ],
   "source": [
    "contador = 1\n",
    "\n",
    "while contador <= 31:\n",
    "    if contador != 13:\n",
    "        print(f\"Dia del mes: {contador}\")\n",
    "        contador += 1\n",
    "    else:\n",
    "        break\n",
    "\n",
    "print(f\"El ciclo while termino en el dia: {contador}\")"
   ]
  },
  {
   "cell_type": "markdown",
   "id": "94247941",
   "metadata": {},
   "source": [
    "### Continue con while"
   ]
  },
  {
   "cell_type": "code",
   "execution_count": 5,
   "id": "d76ce54b",
   "metadata": {},
   "outputs": [
    {
     "name": "stdout",
     "output_type": "stream",
     "text": [
      "Dia del mes: 1\n",
      "Dia del mes: 2\n",
      "Dia del mes: 3\n",
      "Dia del mes: 4\n",
      "Dia del mes: 5\n",
      "Dia del mes: 6\n",
      "Dia del mes: 7\n",
      "Dia del mes: 8\n",
      "Dia del mes: 9\n",
      "Dia del mes: 10\n",
      "Dia del mes: 11\n",
      "Dia del mes: 12\n",
      "Dia del mes: 14\n",
      "Dia del mes: 15\n",
      "Dia del mes: 16\n",
      "Dia del mes: 17\n",
      "Dia del mes: 18\n",
      "Dia del mes: 19\n",
      "Dia del mes: 20\n",
      "Dia del mes: 21\n",
      "Dia del mes: 22\n",
      "Dia del mes: 23\n",
      "Dia del mes: 24\n",
      "Dia del mes: 25\n",
      "Dia del mes: 26\n",
      "Dia del mes: 27\n",
      "Dia del mes: 28\n",
      "Dia del mes: 29\n",
      "Dia del mes: 30\n",
      "Dia del mes: 31\n",
      "El ciclo while omitio el dia: 13\n"
     ]
    }
   ],
   "source": [
    "contador = 1\n",
    "\n",
    "while contador <= 31:\n",
    "\n",
    "    if contador == 13:\n",
    "        valor_omitido = contador\n",
    "        contador += 1\n",
    "        continue #Cuando vea el #13 lo omite y sigue con el siguiente\n",
    "\n",
    "    print(f\"Dia del mes: {contador}\")\n",
    "    contador += 1\n",
    "\n",
    "print(f\"El ciclo while omitio el dia: {valor_omitido}\")"
   ]
  },
  {
   "cell_type": "markdown",
   "id": "395f6202",
   "metadata": {},
   "source": [
    "### Break con for"
   ]
  },
  {
   "cell_type": "code",
   "execution_count": 7,
   "id": "5620c1e2",
   "metadata": {},
   "outputs": [
    {
     "name": "stdout",
     "output_type": "stream",
     "text": [
      "Hola Goku!!!\n",
      "Hola Vegeta!!!\n",
      "\n",
      "Peligro detectado!!! Freezer esta cerca❗❗❗\n"
     ]
    }
   ],
   "source": [
    "dbz = [\"Goku\", \"Vegeta\", \"Freezer\", \"trunks\"]\n",
    "\n",
    "for personaje in dbz:\n",
    "    if personaje == \"Freezer\":\n",
    "        personaje_omitido = personaje\n",
    "        break\n",
    "    print(f\"Hola {personaje}!!!\")\n",
    "\n",
    "print()\n",
    "print(f\"Peligro detectado!!! {personaje_omitido} esta cerca❗❗❗\")"
   ]
  },
  {
   "cell_type": "markdown",
   "id": "d1d088f5",
   "metadata": {},
   "source": [
    "### Continue con for"
   ]
  },
  {
   "cell_type": "code",
   "execution_count": 8,
   "id": "c76f03be",
   "metadata": {},
   "outputs": [
    {
     "name": "stdout",
     "output_type": "stream",
     "text": [
      "Hola Goku!!!\n",
      "Hola Vegeta!!!\n",
      "Hola trunks!!!\n",
      "\n",
      "El personaje omitido fue Freezer 😁\n"
     ]
    }
   ],
   "source": [
    "dbz = [\"Goku\", \"Vegeta\", \"Freezer\", \"trunks\"]\n",
    "\n",
    "for personaje in dbz:\n",
    "    if personaje == \"Freezer\":\n",
    "        personaje_omitido = personaje\n",
    "        continue\n",
    "\n",
    "    print(f\"Hola {personaje}!!!\")\n",
    "\n",
    "print()\n",
    "print(f\"El personaje omitido fue {personaje_omitido} 😁\")"
   ]
  }
 ],
 "metadata": {
  "kernelspec": {
   "display_name": "Python 3",
   "language": "python",
   "name": "python3"
  },
  "language_info": {
   "codemirror_mode": {
    "name": "ipython",
    "version": 3
   },
   "file_extension": ".py",
   "mimetype": "text/x-python",
   "name": "python",
   "nbconvert_exporter": "python",
   "pygments_lexer": "ipython3",
   "version": "3.13.5"
  }
 },
 "nbformat": 4,
 "nbformat_minor": 5
}
