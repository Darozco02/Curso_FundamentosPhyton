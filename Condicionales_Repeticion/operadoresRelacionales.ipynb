{
 "cells": [
  {
   "cell_type": "markdown",
   "id": "c8cdcc32",
   "metadata": {},
   "source": [
    "# Operadores Relacionales"
   ]
  },
  {
   "cell_type": "markdown",
   "id": "fe70c986",
   "metadata": {},
   "source": [
    "- Mayor >\n",
    "- Menor <\n",
    "- Mayor igual >=\n",
    "- Menor igual <=\n",
    "- igual == \n",
    "- Diferente !="
   ]
  },
  {
   "cell_type": "code",
   "execution_count": 1,
   "id": "bc511962",
   "metadata": {},
   "outputs": [
    {
     "name": "stdout",
     "output_type": "stream",
     "text": [
      "True\n"
     ]
    }
   ],
   "source": [
    "edad_padre = 50\n",
    "edad_hija = 12\n",
    "\n",
    "print(edad_padre > edad_hija)"
   ]
  },
  {
   "cell_type": "markdown",
   "id": "2de4ab5d",
   "metadata": {},
   "source": [
    "# Operadores Logicos"
   ]
  },
  {
   "cell_type": "markdown",
   "id": "03adfc38",
   "metadata": {},
   "source": [
    "- Y and\n",
    "- O or\n",
    "- Negacion not"
   ]
  }
 ],
 "metadata": {
  "kernelspec": {
   "display_name": "Python 3",
   "language": "python",
   "name": "python3"
  },
  "language_info": {
   "codemirror_mode": {
    "name": "ipython",
    "version": 3
   },
   "file_extension": ".py",
   "mimetype": "text/x-python",
   "name": "python",
   "nbconvert_exporter": "python",
   "pygments_lexer": "ipython3",
   "version": "3.13.5"
  }
 },
 "nbformat": 4,
 "nbformat_minor": 5
}
