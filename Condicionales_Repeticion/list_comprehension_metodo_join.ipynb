{
 "cells": [
  {
   "cell_type": "markdown",
   "id": "52f2e797",
   "metadata": {},
   "source": [
    "# List comprehension y metodo join()"
   ]
  },
  {
   "cell_type": "markdown",
   "id": "a841838a",
   "metadata": {},
   "source": [
    "### list comprehension\n"
   ]
  },
  {
   "cell_type": "markdown",
   "id": "668eaab4",
   "metadata": {},
   "source": [
    "Es una manera de crear listas en phyton"
   ]
  },
  {
   "cell_type": "code",
   "execution_count": 1,
   "id": "5cda85b9",
   "metadata": {},
   "outputs": [
    {
     "name": "stdout",
     "output_type": "stream",
     "text": [
      "[1, 2, 3, 4, 5, 6, 7, 8, 9, 10]\n"
     ]
    }
   ],
   "source": [
    "# creacion de nueva lista con list comprehension\n",
    "\n",
    "lista_numeros = [i for i in range (1, 11)]\n",
    "\n",
    "print(lista_numeros)"
   ]
  },
  {
   "cell_type": "code",
   "execution_count": 2,
   "id": "25adc429",
   "metadata": {},
   "outputs": [
    {
     "name": "stdout",
     "output_type": "stream",
     "text": [
      "[1, 4, 9, 16, 25, 36, 49, 64, 81, 100]\n"
     ]
    }
   ],
   "source": [
    "numeros_cuadrados = [elemento**2 for elemento in lista_numeros]\n",
    "print(numeros_cuadrados)"
   ]
  },
  {
   "cell_type": "code",
   "execution_count": null,
   "id": "d0da9f0d",
   "metadata": {},
   "outputs": [
    {
     "name": "stdout",
     "output_type": "stream",
     "text": [
      "[1, 2, 3, 4, 5, 6, 7, 8, 9, 10]\n",
      "[2, 4, 6, 8, 10]\n"
     ]
    }
   ],
   "source": [
    "print(lista_numeros)\n",
    "\n",
    "# Para obtener los numeros pares\n",
    "numeros_pares = [elemento for elemento in lista_numeros if elemento % 2 == 0]\n",
    "print(numeros_pares)"
   ]
  },
  {
   "cell_type": "markdown",
   "id": "0428c45c",
   "metadata": {},
   "source": [
    "### Metodo join()"
   ]
  },
  {
   "cell_type": "markdown",
   "id": "c7992667",
   "metadata": {},
   "source": [
    "Es para unir una secuencia de elementos"
   ]
  },
  {
   "cell_type": "code",
   "execution_count": 5,
   "id": "9efde442",
   "metadata": {},
   "outputs": [],
   "source": [
    "personajes = [\"goku\", \"vegeta\", \"trunks\", \"leia\"]\n"
   ]
  },
  {
   "cell_type": "code",
   "execution_count": null,
   "id": "a0697065",
   "metadata": {},
   "outputs": [
    {
     "name": "stdout",
     "output_type": "stream",
     "text": [
      "Mis personajes favoritos son: Goku-Vegeta-Trunks-Leia\n"
     ]
    }
   ],
   "source": [
    "print(f\"Mis personajes favoritos son: {\"-\".join(personajes)}\")"
   ]
  },
  {
   "cell_type": "code",
   "execution_count": 9,
   "id": "aea63cc2",
   "metadata": {},
   "outputs": [
    {
     "name": "stdout",
     "output_type": "stream",
     "text": [
      "Mis personajes favoritos son: Goku, Vegeta, Trunks, Leia\n"
     ]
    }
   ],
   "source": [
    "personajes = [personaje.title() for personaje in personajes]\n",
    "\n",
    "print(f\"Mis personajes favoritos son: {\", \".join(personajes)}\")"
   ]
  }
 ],
 "metadata": {
  "kernelspec": {
   "display_name": "Python 3",
   "language": "python",
   "name": "python3"
  },
  "language_info": {
   "codemirror_mode": {
    "name": "ipython",
    "version": 3
   },
   "file_extension": ".py",
   "mimetype": "text/x-python",
   "name": "python",
   "nbconvert_exporter": "python",
   "pygments_lexer": "ipython3",
   "version": "3.13.5"
  }
 },
 "nbformat": 4,
 "nbformat_minor": 5
}
