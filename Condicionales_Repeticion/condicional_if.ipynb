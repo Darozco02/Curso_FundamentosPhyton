{
 "cells": [
  {
   "cell_type": "markdown",
   "id": "7fe6949e",
   "metadata": {},
   "source": [
    "# Condicional if"
   ]
  },
  {
   "cell_type": "markdown",
   "id": "40ab236c",
   "metadata": {},
   "source": [
    "Sintaxis basica if simple"
   ]
  },
  {
   "cell_type": "code",
   "execution_count": 7,
   "id": "771e3b87",
   "metadata": {},
   "outputs": [
    {
     "name": "stdout",
     "output_type": "stream",
     "text": [
      "La edad ingresada es de: 18, es mayor de edad\n"
     ]
    }
   ],
   "source": [
    "edad = 18\n",
    "\n",
    "if edad >= 18:\n",
    "    print(f\"La edad ingresada es de: {edad}, es mayor de edad\")"
   ]
  },
  {
   "cell_type": "markdown",
   "id": "f03ef120",
   "metadata": {},
   "source": [
    "Sintaxis basica if con else"
   ]
  },
  {
   "cell_type": "code",
   "execution_count": 11,
   "id": "fa80eada",
   "metadata": {},
   "outputs": [
    {
     "name": "stdout",
     "output_type": "stream",
     "text": [
      "La persona no puede conducir y no puede manejar\n"
     ]
    }
   ],
   "source": [
    "edad = int(input(\"Digite la edad del usuario: \"))\n",
    "licencia_conducir = True\n",
    "\n",
    "if edad >= 18 and licencia_conducir ==  True:\n",
    "    print(\"El usuario es mayor de edad y puede manejar\")\n",
    "else:\n",
    "    licencia_conducir = False\n",
    "    print(\"La persona no puede conducir y no puede manejar\")"
   ]
  },
  {
   "cell_type": "markdown",
   "id": "5a94d9f1",
   "metadata": {},
   "source": [
    "Sintaxis compuesta if con else-elif"
   ]
  },
  {
   "cell_type": "code",
   "execution_count": 16,
   "id": "639486f2",
   "metadata": {},
   "outputs": [
    {
     "name": "stdout",
     "output_type": "stream",
     "text": [
      "El usuario tiene 13 años, no es mayor de edad\n",
      "El usuario no puede conducir\n",
      "Habilitado para conducir: False\n"
     ]
    }
   ],
   "source": [
    "edad = int(input(\"Digite la edad del usuario: \"))\n",
    "licencia_conducir = True\n",
    "\n",
    "if edad >= 18 and licencia_conducir == True:\n",
    "    print(f\"El usuario tiene {edad} años y puede manejar\")\n",
    "    print(f\"Habilitado para conducir: {licencia_conducir}\")\n",
    "\n",
    "elif edad >= 16 and edad < 18 and licencia_conducir:\n",
    "    print(f\"El usuario tiene {edad} años, no es mayor de edad\")\n",
    "    print(f\"El usuario puede conducir\")\n",
    "    print(f\"Habilitado para conducir: {licencia_conducir}\")\n",
    "\n",
    "else:\n",
    "    licencia_conducir = False\n",
    "    print(f\"El usuario tiene {edad} años, no es mayor de edad\")\n",
    "    print(f\"El usuario no puede conducir\")\n",
    "    print(f\"Habilitado para conducir: {licencia_conducir}\")"
   ]
  },
  {
   "cell_type": "markdown",
   "id": "44c076a5",
   "metadata": {},
   "source": [
    " ### if ternario\n"
   ]
  },
  {
   "cell_type": "markdown",
   "id": "d27f9925",
   "metadata": {},
   "source": [
    "El if ternario es una manera mas compacta de escribir un if en una sola linea\n",
    "- Util cuando quiero asignar un valor a una variable dependiendo de una condicion"
   ]
  },
  {
   "cell_type": "code",
   "execution_count": null,
   "id": "59dfc6ab",
   "metadata": {},
   "outputs": [
    {
     "name": "stdout",
     "output_type": "stream",
     "text": [
      "Eres mayor de edad\n",
      "Licencia Conducir: True\n"
     ]
    }
   ],
   "source": [
    "#if ternario\n",
    "edad = int(input(\"Digite la edad del usuario: \"))\n",
    "licencia_conducir = input(\"Cuenta con licencia de conducir? (s/n)\").title()\n",
    "\n",
    "mensaje = \"Eres mayor de edad\" if edad >= 18 else \"Eres menor de edad\"\n",
    "licencia_conducir = True if licencia_conducir == \"S\" else False\n",
    "\n",
    "print(mensaje)\n",
    "print(f\"Licencia Conducir: {licencia_conducir}\")"
   ]
  },
  {
   "cell_type": "code",
   "execution_count": 20,
   "id": "6b06781a",
   "metadata": {},
   "outputs": [
    {
     "name": "stdout",
     "output_type": "stream",
     "text": [
      "El usuario No cuenta con licencia para conducir\n",
      "Habilitado para conducir: False\n"
     ]
    }
   ],
   "source": [
    "# Codigo de prueba\n",
    "licencia_conducir = input(\"Cuenta con licencia de conducir? (s/n)\").title()\n",
    "licencia_conducir = True if licencia_conducir == \"S\" else False\n",
    "\n",
    "if licencia_conducir == True:\n",
    "    print(\"El usuario cuenta con licencia para conducir\")\n",
    "    print(f\"Habilitado para conducir: {licencia_conducir}\")\n",
    "else:\n",
    "    print(\"El usuario No cuenta con licencia para conducir\")\n",
    "    print(f\"Habilitado para conducir: {licencia_conducir}\")\n"
   ]
  }
 ],
 "metadata": {
  "kernelspec": {
   "display_name": "Python 3",
   "language": "python",
   "name": "python3"
  },
  "language_info": {
   "codemirror_mode": {
    "name": "ipython",
    "version": 3
   },
   "file_extension": ".py",
   "mimetype": "text/x-python",
   "name": "python",
   "nbconvert_exporter": "python",
   "pygments_lexer": "ipython3",
   "version": "3.13.5"
  }
 },
 "nbformat": 4,
 "nbformat_minor": 5
}
