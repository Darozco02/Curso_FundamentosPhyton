{
 "cells": [
  {
   "cell_type": "markdown",
   "id": "3025c7e4",
   "metadata": {},
   "source": [
    "Entrada de datos con input()"
   ]
  },
  {
   "cell_type": "markdown",
   "id": "3043f830",
   "metadata": {},
   "source": [
    "Esto devuelve un String siempre"
   ]
  },
  {
   "cell_type": "code",
   "execution_count": 2,
   "id": "ebb01695",
   "metadata": {},
   "outputs": [
    {
     "data": {
      "text/plain": [
       "'23'"
      ]
     },
     "execution_count": 2,
     "metadata": {},
     "output_type": "execute_result"
    }
   ],
   "source": [
    "input(\"Ingrese su edad: \")"
   ]
  },
  {
   "cell_type": "code",
   "execution_count": 3,
   "id": "1428fd8d",
   "metadata": {},
   "outputs": [],
   "source": [
    "edad = input(\"Ingrese su edad: \")"
   ]
  },
  {
   "cell_type": "code",
   "execution_count": 4,
   "id": "3598e3f5",
   "metadata": {},
   "outputs": [
    {
     "name": "stdout",
     "output_type": "stream",
     "text": [
      "23\n"
     ]
    }
   ],
   "source": [
    "print(edad)"
   ]
  },
  {
   "cell_type": "code",
   "execution_count": 1,
   "id": "1fbd09e5",
   "metadata": {},
   "outputs": [
    {
     "name": "stdout",
     "output_type": "stream",
     "text": [
      "8\n"
     ]
    }
   ],
   "source": [
    "num1 = int(input(\"Ingrese el primer número: \"))\n",
    "num2 = int(input(\"Ingrese el segundo número: \"))\n",
    "\n",
    "print(num1 + num2)"
   ]
  }
 ],
 "metadata": {
  "kernelspec": {
   "display_name": "Python 3",
   "language": "python",
   "name": "python3"
  },
  "language_info": {
   "codemirror_mode": {
    "name": "ipython",
    "version": 3
   },
   "file_extension": ".py",
   "mimetype": "text/x-python",
   "name": "python",
   "nbconvert_exporter": "python",
   "pygments_lexer": "ipython3",
   "version": "3.13.5"
  }
 },
 "nbformat": 4,
 "nbformat_minor": 5
}
