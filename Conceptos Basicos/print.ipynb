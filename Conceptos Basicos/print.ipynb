{
 "cells": [
  {
   "cell_type": "markdown",
   "id": "9b89af9e",
   "metadata": {},
   "source": [
    "Funcion print()"
   ]
  },
  {
   "cell_type": "code",
   "execution_count": 1,
   "id": "4cb129a5",
   "metadata": {},
   "outputs": [
    {
     "name": "stdout",
     "output_type": "stream",
     "text": [
      "Hola Mundo!\n"
     ]
    }
   ],
   "source": [
    "print(\"Hola Mundo!\")"
   ]
  },
  {
   "cell_type": "code",
   "execution_count": 3,
   "id": "81fcae53",
   "metadata": {},
   "outputs": [
    {
     "name": "stdout",
     "output_type": "stream",
     "text": [
      "Daniel Orozco\n"
     ]
    }
   ],
   "source": [
    "nombre = \"Daniel Orozco\"\n",
    "print(nombre)"
   ]
  },
  {
   "cell_type": "code",
   "execution_count": 4,
   "id": "4712808c",
   "metadata": {},
   "outputs": [
    {
     "name": "stdout",
     "output_type": "stream",
     "text": [
      "Hola Mundo! Mi nombre es Daniel :)\n"
     ]
    }
   ],
   "source": [
    "print(\"Hola Mundo!\", \"Mi nombre es Daniel :)\")"
   ]
  },
  {
   "cell_type": "code",
   "execution_count": 5,
   "id": "493079b3",
   "metadata": {},
   "outputs": [
    {
     "name": "stdout",
     "output_type": "stream",
     "text": [
      "8\n"
     ]
    }
   ],
   "source": [
    "print(3+5)"
   ]
  },
  {
   "cell_type": "code",
   "execution_count": 7,
   "id": "2952efdf",
   "metadata": {},
   "outputs": [
    {
     "name": "stdout",
     "output_type": "stream",
     "text": [
      "Hola mi nombre es, Daniel!!!"
     ]
    }
   ],
   "source": [
    "print(\"Hola mi nombre es\", \"Daniel\", sep = \", \", end = \"!!!\")"
   ]
  }
 ],
 "metadata": {
  "kernelspec": {
   "display_name": "Python 3",
   "language": "python",
   "name": "python3"
  },
  "language_info": {
   "codemirror_mode": {
    "name": "ipython",
    "version": 3
   },
   "file_extension": ".py",
   "mimetype": "text/x-python",
   "name": "python",
   "nbconvert_exporter": "python",
   "pygments_lexer": "ipython3",
   "version": "3.13.5"
  }
 },
 "nbformat": 4,
 "nbformat_minor": 5
}
