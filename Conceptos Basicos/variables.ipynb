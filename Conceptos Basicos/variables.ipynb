{
 "cells": [
  {
   "cell_type": "markdown",
   "id": "79391a50",
   "metadata": {},
   "source": [
    "Variables"
   ]
  },
  {
   "cell_type": "markdown",
   "id": "5bd87c9a",
   "metadata": {},
   "source": [
    "Entero (int)"
   ]
  },
  {
   "cell_type": "code",
   "execution_count": 1,
   "id": "5d7e310d",
   "metadata": {},
   "outputs": [
    {
     "name": "stdout",
     "output_type": "stream",
     "text": [
      "<class 'int'>\n"
     ]
    }
   ],
   "source": [
    "edad = 25\n",
    "\n",
    "print(type(edad))"
   ]
  },
  {
   "cell_type": "markdown",
   "id": "f4c319d7",
   "metadata": {},
   "source": [
    "Decimales (float)"
   ]
  },
  {
   "cell_type": "code",
   "execution_count": 2,
   "id": "5b0b3636",
   "metadata": {},
   "outputs": [
    {
     "name": "stdout",
     "output_type": "stream",
     "text": [
      "<class 'float'>\n"
     ]
    }
   ],
   "source": [
    "altura = 1.80\n",
    "print(type(altura))"
   ]
  },
  {
   "cell_type": "markdown",
   "id": "426919f1",
   "metadata": {},
   "source": [
    "Texto (String)"
   ]
  },
  {
   "cell_type": "code",
   "execution_count": 4,
   "id": "59c86f5a",
   "metadata": {},
   "outputs": [
    {
     "name": "stdout",
     "output_type": "stream",
     "text": [
      "<class 'str'>\n"
     ]
    }
   ],
   "source": [
    "nombre = \"Daniel Orozco\"\n",
    "print(type(nombre))"
   ]
  },
  {
   "cell_type": "markdown",
   "id": "489e6b61",
   "metadata": {},
   "source": [
    "Booleanos falso/Verdadero (bool)"
   ]
  },
  {
   "cell_type": "code",
   "execution_count": 5,
   "id": "c3d9a676",
   "metadata": {},
   "outputs": [
    {
     "name": "stdout",
     "output_type": "stream",
     "text": [
      "<class 'bool'>\n"
     ]
    }
   ],
   "source": [
    "usuario_gold = True\n",
    "print(type(usuario_gold))"
   ]
  },
  {
   "cell_type": "markdown",
   "id": "65a0e26c",
   "metadata": {},
   "source": [
    "Conversion de variables (casting)"
   ]
  },
  {
   "cell_type": "code",
   "execution_count": 1,
   "id": "e1f9211e",
   "metadata": {},
   "outputs": [
    {
     "name": "stdout",
     "output_type": "stream",
     "text": [
      "3\n"
     ]
    }
   ],
   "source": [
    "num_flotante = 3.14\n",
    "\n",
    "print(int(num_flotante))"
   ]
  },
  {
   "cell_type": "code",
   "execution_count": 2,
   "id": "f65ae26f",
   "metadata": {},
   "outputs": [
    {
     "name": "stdout",
     "output_type": "stream",
     "text": [
      "45234\n"
     ]
    }
   ],
   "source": [
    "num_string = input(\"Ingrese un número: \")\n",
    "\n",
    "print(int(num_string))"
   ]
  }
 ],
 "metadata": {
  "kernelspec": {
   "display_name": "Python 3",
   "language": "python",
   "name": "python3"
  },
  "language_info": {
   "codemirror_mode": {
    "name": "ipython",
    "version": 3
   },
   "file_extension": ".py",
   "mimetype": "text/x-python",
   "name": "python",
   "nbconvert_exporter": "python",
   "pygments_lexer": "ipython3",
   "version": "3.13.5"
  }
 },
 "nbformat": 4,
 "nbformat_minor": 5
}
